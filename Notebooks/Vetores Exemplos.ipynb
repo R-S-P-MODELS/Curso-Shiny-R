{
 "cells": [
  {
   "cell_type": "markdown",
   "metadata": {},
   "source": [
    "<!DOCTYPE html>\n",
    "<html>\n",
    "    <head>\n",
    "        <meta name=\\\"viewport\\\" content=\\\"width=device-width initial-scale=1\\\">\n",
    "        <style>\n",
    "            * {\n",
    "            box-sizing: border-box;\n",
    "            }\n",
    "            .row {\n",
    "            display: flex;\n",
    "            }\n",
    "            .column {\n",
    "            flex: 33.33%;\n",
    "            padding: 5px;\n",
    "            }\n",
    "        </style>\n",
    "    </head>\n",
    "    <body>\n",
    "        <div class=\"row\">\n",
    "            <div class=\"column\">\n",
    "                <img src=\"http://www.lncc.br/images/logo_lncc.png\" alt=\"LNCC\" style=\"width:18%\" align=\"left\">\n",
    "            </div>\n",
    "            <div class=\"column\">\n",
    "                <img src=\"http://dexl.lncc.br/files/logo_dexl_rgb.jpg\" alt=\"Dexl\" style=\"width:22%;margin-left:400px;margin-top:10px\">\n",
    "            </div>\n",
    "            <div class=\"column\">\n",
    "                <img src=\"https://upload.wikimedia.org/wikipedia/pt/7/71/Cnpq-logo.jpg\" alt=\"CENPES\" style=\"width:20%;margin-top:-47px\" align=\"right\">\n",
    "            </div>\n",
    "        </div>\n",
    "        <hr>\n",
    "        <div align=\"middle\">\n",
    "            <h2>Desenvolvimento de Web Apps via Shiny R</h2>\n",
    "            <h3>EAMC 2020</h3>\n",
    "            <h4>Instrutor: Rafael Silva Pereira</h4> \n",
    "        </div>\n",
    "    </body>\n",
    "</html>"
   ]
  },
  {
   "cell_type": "markdown",
   "metadata": {},
   "source": [
    "Vetores são uma estrutura no R que armazenam variaveis de mesmo tipo, este pode ter tantos elementos quanto a memoria da maquina permitir"
   ]
  },
  {
   "cell_type": "markdown",
   "metadata": {},
   "source": [
    "Um exemplo de inicialização de vetor é"
   ]
  },
  {
   "cell_type": "code",
   "execution_count": 1,
   "metadata": {},
   "outputs": [
    {
     "data": {
      "text/html": [
       "<ol class=list-inline>\n",
       "\t<li>1</li>\n",
       "\t<li>2</li>\n",
       "\t<li>3</li>\n",
       "</ol>\n"
      ],
      "text/latex": [
       "\\begin{enumerate*}\n",
       "\\item 1\n",
       "\\item 2\n",
       "\\item 3\n",
       "\\end{enumerate*}\n"
      ],
      "text/markdown": [
       "1. 1\n",
       "2. 2\n",
       "3. 3\n",
       "\n",
       "\n"
      ],
      "text/plain": [
       "[1] 1 2 3"
      ]
     },
     "metadata": {},
     "output_type": "display_data"
    }
   ],
   "source": [
    "vetor=c(1,2,3)\n",
    "vetor"
   ]
  },
  {
   "cell_type": "markdown",
   "metadata": {},
   "source": [
    "Outras formas de inicializar o vetor é utilizando a seguinte forma"
   ]
  },
  {
   "cell_type": "code",
   "execution_count": 2,
   "metadata": {},
   "outputs": [
    {
     "data": {
      "text/html": [
       "<ol class=list-inline>\n",
       "\t<li>1</li>\n",
       "\t<li>2</li>\n",
       "\t<li>3</li>\n",
       "</ol>\n"
      ],
      "text/latex": [
       "\\begin{enumerate*}\n",
       "\\item 1\n",
       "\\item 2\n",
       "\\item 3\n",
       "\\end{enumerate*}\n"
      ],
      "text/markdown": [
       "1. 1\n",
       "2. 2\n",
       "3. 3\n",
       "\n",
       "\n"
      ],
      "text/plain": [
       "[1] 1 2 3"
      ]
     },
     "metadata": {},
     "output_type": "display_data"
    }
   ],
   "source": [
    "vetor=1:3\n",
    "vetor"
   ]
  },
  {
   "cell_type": "code",
   "execution_count": 3,
   "metadata": {},
   "outputs": [
    {
     "data": {
      "text/html": [
       "<ol class=list-inline>\n",
       "\t<li>1</li>\n",
       "\t<li>3</li>\n",
       "\t<li>5</li>\n",
       "\t<li>7</li>\n",
       "\t<li>9</li>\n",
       "</ol>\n"
      ],
      "text/latex": [
       "\\begin{enumerate*}\n",
       "\\item 1\n",
       "\\item 3\n",
       "\\item 5\n",
       "\\item 7\n",
       "\\item 9\n",
       "\\end{enumerate*}\n"
      ],
      "text/markdown": [
       "1. 1\n",
       "2. 3\n",
       "3. 5\n",
       "4. 7\n",
       "5. 9\n",
       "\n",
       "\n"
      ],
      "text/plain": [
       "[1] 1 3 5 7 9"
      ]
     },
     "metadata": {},
     "output_type": "display_data"
    }
   ],
   "source": [
    "vetor=seq(1,10,2)\n",
    "vetor"
   ]
  },
  {
   "cell_type": "markdown",
   "metadata": {},
   "source": [
    "vetores tambem podem ser inicializados com variaveis aleatorias definidas por uma distribuição de probabilidade\n",
    "\n",
    "algumas distribuições nativas serão\n",
    "runif (uniforme)\n",
    "rnorm (normal)\n",
    "rexp (exponencial)\n",
    "rchisq (qui quadrado)"
   ]
  },
  {
   "cell_type": "code",
   "execution_count": 4,
   "metadata": {},
   "outputs": [],
   "source": [
    "uniforme=runif(n = 10,min = -1,max=1)\n",
    "normal=rnorm(n=10,mean=0,sd = 1)\n",
    "exponencial=rexp(n=10,rate = 5)"
   ]
  },
  {
   "cell_type": "code",
   "execution_count": 5,
   "metadata": {},
   "outputs": [
    {
     "data": {
      "text/html": [
       "<ol class=list-inline>\n",
       "\t<li>0.652559279464185</li>\n",
       "\t<li>-0.358903035521507</li>\n",
       "\t<li>-0.757205421570688</li>\n",
       "\t<li>-0.473282425664365</li>\n",
       "\t<li>-0.685256065800786</li>\n",
       "\t<li>0.0667261057533324</li>\n",
       "\t<li>0.219048442319036</li>\n",
       "\t<li>0.976096834521741</li>\n",
       "\t<li>-0.777406891342252</li>\n",
       "\t<li>0.634680669289082</li>\n",
       "</ol>\n"
      ],
      "text/latex": [
       "\\begin{enumerate*}\n",
       "\\item 0.652559279464185\n",
       "\\item -0.358903035521507\n",
       "\\item -0.757205421570688\n",
       "\\item -0.473282425664365\n",
       "\\item -0.685256065800786\n",
       "\\item 0.0667261057533324\n",
       "\\item 0.219048442319036\n",
       "\\item 0.976096834521741\n",
       "\\item -0.777406891342252\n",
       "\\item 0.634680669289082\n",
       "\\end{enumerate*}\n"
      ],
      "text/markdown": [
       "1. 0.652559279464185\n",
       "2. -0.358903035521507\n",
       "3. -0.757205421570688\n",
       "4. -0.473282425664365\n",
       "5. -0.685256065800786\n",
       "6. 0.0667261057533324\n",
       "7. 0.219048442319036\n",
       "8. 0.976096834521741\n",
       "9. -0.777406891342252\n",
       "10. 0.634680669289082\n",
       "\n",
       "\n"
      ],
      "text/plain": [
       " [1]  0.65255928 -0.35890304 -0.75720542 -0.47328243 -0.68525607  0.06672611\n",
       " [7]  0.21904844  0.97609683 -0.77740689  0.63468067"
      ]
     },
     "metadata": {},
     "output_type": "display_data"
    }
   ],
   "source": [
    "uniforme"
   ]
  },
  {
   "cell_type": "markdown",
   "metadata": {},
   "source": [
    "assim como temos um vetor se quisessemos calcular o somatorio deste, em uma linguagem como C fariamos"
   ]
  },
  {
   "cell_type": "code",
   "execution_count": 6,
   "metadata": {},
   "outputs": [
    {
     "name": "stdout",
     "output_type": "stream",
     "text": [
      "[1] -0.5029425\n"
     ]
    }
   ],
   "source": [
    "soma=0\n",
    "for(i in 1:10)\n",
    "    soma=soma+uniforme[i]\n",
    "print(soma)"
   ]
  },
  {
   "cell_type": "markdown",
   "metadata": {},
   "source": [
    "Se quisessemos ver o produto de todo o vetor por 2"
   ]
  },
  {
   "cell_type": "code",
   "execution_count": 7,
   "metadata": {},
   "outputs": [
    {
     "name": "stdout",
     "output_type": "stream",
     "text": [
      "[1] 1.305119\n",
      "[1] -0.7178061\n",
      "[1] -1.514411\n",
      "[1] -0.9465649\n",
      "[1] -1.370512\n",
      "[1] 0.1334522\n",
      "[1] 0.4380969\n",
      "[1] 1.952194\n",
      "[1] -1.554814\n",
      "[1] 1.269361\n"
     ]
    }
   ],
   "source": [
    "for(i in 1:10)\n",
    "    print(2*uniforme[i])"
   ]
  },
  {
   "cell_type": "markdown",
   "metadata": {},
   "source": [
    "Mas a linguagem R não nescessita disto, as operações são nativamente vetorizadas, por isto poderiamos simplesmente escrever"
   ]
  },
  {
   "cell_type": "code",
   "execution_count": 8,
   "metadata": {},
   "outputs": [
    {
     "data": {
      "text/html": [
       "-0.502942508552223"
      ],
      "text/latex": [
       "-0.502942508552223"
      ],
      "text/markdown": [
       "-0.502942508552223"
      ],
      "text/plain": [
       "[1] -0.5029425"
      ]
     },
     "metadata": {},
     "output_type": "display_data"
    }
   ],
   "source": [
    "sum(uniforme)"
   ]
  },
  {
   "cell_type": "code",
   "execution_count": 9,
   "metadata": {},
   "outputs": [
    {
     "data": {
      "text/html": [
       "<ol class=list-inline>\n",
       "\t<li>1.30511855892837</li>\n",
       "\t<li>-0.717806071043015</li>\n",
       "\t<li>-1.51441084314138</li>\n",
       "\t<li>-0.946564851328731</li>\n",
       "\t<li>-1.37051213160157</li>\n",
       "\t<li>0.133452211506665</li>\n",
       "\t<li>0.438096884638071</li>\n",
       "\t<li>1.95219366904348</li>\n",
       "\t<li>-1.5548137826845</li>\n",
       "\t<li>1.26936133857816</li>\n",
       "</ol>\n"
      ],
      "text/latex": [
       "\\begin{enumerate*}\n",
       "\\item 1.30511855892837\n",
       "\\item -0.717806071043015\n",
       "\\item -1.51441084314138\n",
       "\\item -0.946564851328731\n",
       "\\item -1.37051213160157\n",
       "\\item 0.133452211506665\n",
       "\\item 0.438096884638071\n",
       "\\item 1.95219366904348\n",
       "\\item -1.5548137826845\n",
       "\\item 1.26936133857816\n",
       "\\end{enumerate*}\n"
      ],
      "text/markdown": [
       "1. 1.30511855892837\n",
       "2. -0.717806071043015\n",
       "3. -1.51441084314138\n",
       "4. -0.946564851328731\n",
       "5. -1.37051213160157\n",
       "6. 0.133452211506665\n",
       "7. 0.438096884638071\n",
       "8. 1.95219366904348\n",
       "9. -1.5548137826845\n",
       "10. 1.26936133857816\n",
       "\n",
       "\n"
      ],
      "text/plain": [
       " [1]  1.3051186 -0.7178061 -1.5144108 -0.9465649 -1.3705121  0.1334522\n",
       " [7]  0.4380969  1.9521937 -1.5548138  1.2693613"
      ]
     },
     "metadata": {},
     "output_type": "display_data"
    }
   ],
   "source": [
    "2*uniforme"
   ]
  },
  {
   "cell_type": "markdown",
   "metadata": {},
   "source": [
    "Alem disto como uma linguagem feita para analise de dados, esta tem suporte a diversas funções estatisticas"
   ]
  },
  {
   "cell_type": "code",
   "execution_count": 10,
   "metadata": {},
   "outputs": [
    {
     "data": {
      "text/html": [
       "-0.0502942508552223"
      ],
      "text/latex": [
       "-0.0502942508552223"
      ],
      "text/markdown": [
       "-0.0502942508552223"
      ],
      "text/plain": [
       "[1] -0.05029425"
      ]
     },
     "metadata": {},
     "output_type": "display_data"
    }
   ],
   "source": [
    "mean(uniforme)"
   ]
  },
  {
   "cell_type": "code",
   "execution_count": 11,
   "metadata": {},
   "outputs": [
    {
     "data": {
      "text/html": [
       "0.615038893558545"
      ],
      "text/latex": [
       "0.615038893558545"
      ],
      "text/markdown": [
       "0.615038893558545"
      ],
      "text/plain": [
       "[1] 0.6150389"
      ]
     },
     "metadata": {},
     "output_type": "display_data"
    }
   ],
   "source": [
    "var(normal)"
   ]
  },
  {
   "cell_type": "code",
   "execution_count": 12,
   "metadata": {},
   "outputs": [
    {
     "data": {
      "text/html": [
       "0.30754597751786"
      ],
      "text/latex": [
       "0.30754597751786"
      ],
      "text/markdown": [
       "0.30754597751786"
      ],
      "text/plain": [
       "[1] 0.307546"
      ]
     },
     "metadata": {},
     "output_type": "display_data"
    }
   ],
   "source": [
    "median(exponencial)"
   ]
  },
  {
   "cell_type": "code",
   "execution_count": 13,
   "metadata": {},
   "outputs": [
    {
     "data": {
      "text/html": [
       "<ol class=list-inline>\n",
       "\t<li>0.0313181778065661</li>\n",
       "\t<li>0.00194527675063979</li>\n",
       "\t<li>0.315336503592984</li>\n",
       "\t<li>-0.181491000179011</li>\n",
       "\t<li>0.072515692573763</li>\n",
       "\t<li>0.477854910274888</li>\n",
       "\t<li>-0.295179501611878</li>\n",
       "\t<li>0.0630286589253999</li>\n",
       "\t<li>0.0904656723767125</li>\n",
       "\t<li>0.458775073984451</li>\n",
       "</ol>\n"
      ],
      "text/latex": [
       "\\begin{enumerate*}\n",
       "\\item 0.0313181778065661\n",
       "\\item 0.00194527675063979\n",
       "\\item 0.315336503592984\n",
       "\\item -0.181491000179011\n",
       "\\item 0.072515692573763\n",
       "\\item 0.477854910274888\n",
       "\\item -0.295179501611878\n",
       "\\item 0.0630286589253999\n",
       "\\item 0.0904656723767125\n",
       "\\item 0.458775073984451\n",
       "\\end{enumerate*}\n"
      ],
      "text/markdown": [
       "1. 0.0313181778065661\n",
       "2. 0.00194527675063979\n",
       "3. 0.315336503592984\n",
       "4. -0.181491000179011\n",
       "5. 0.072515692573763\n",
       "6. 0.477854910274888\n",
       "7. -0.295179501611878\n",
       "8. 0.0630286589253999\n",
       "9. 0.0904656723767125\n",
       "10. 0.458775073984451\n",
       "\n",
       "\n"
      ],
      "text/plain": [
       " [1]  0.031318178  0.001945277  0.315336504 -0.181491000  0.072515693\n",
       " [6]  0.477854910 -0.295179502  0.063028659  0.090465672  0.458775074"
      ]
     },
     "metadata": {},
     "output_type": "display_data"
    }
   ],
   "source": [
    "exponencial*normal"
   ]
  },
  {
   "cell_type": "code",
   "execution_count": 15,
   "metadata": {},
   "outputs": [
    {
     "data": {
      "text/html": [
       "0.370679380829259"
      ],
      "text/latex": [
       "0.370679380829259"
      ],
      "text/markdown": [
       "0.370679380829259"
      ],
      "text/plain": [
       "[1] 0.3706794"
      ]
     },
     "metadata": {},
     "output_type": "display_data"
    }
   ],
   "source": [
    "mean(exponencial + normal * uniforme)"
   ]
  },
  {
   "cell_type": "code",
   "execution_count": 25,
   "metadata": {},
   "outputs": [
    {
     "data": {
      "text/html": [
       "<ol class=list-inline>\n",
       "\t<li>1.99173156399674</li>\n",
       "\t<li>1.32903555904191</li>\n",
       "\t<li>0.168571737995751</li>\n",
       "\t<li>0.802301927990307</li>\n",
       "\t<li>-2.12195248171079</li>\n",
       "\t<li>-2.07457542577666</li>\n",
       "\t<li>-2.32047923673081</li>\n",
       "\t<li>-1.15647262175389</li>\n",
       "\t<li>-4.07280413153088</li>\n",
       "\t<li>-3.64997529125921</li>\n",
       "</ol>\n"
      ],
      "text/latex": [
       "\\begin{enumerate*}\n",
       "\\item 1.99173156399674\n",
       "\\item 1.32903555904191\n",
       "\\item 0.168571737995751\n",
       "\\item 0.802301927990307\n",
       "\\item -2.12195248171079\n",
       "\\item -2.07457542577666\n",
       "\\item -2.32047923673081\n",
       "\\item -1.15647262175389\n",
       "\\item -4.07280413153088\n",
       "\\item -3.64997529125921\n",
       "\\end{enumerate*}\n"
      ],
      "text/markdown": [
       "1. 1.99173156399674\n",
       "2. 1.32903555904191\n",
       "3. 0.168571737995751\n",
       "4. 0.802301927990307\n",
       "5. -2.12195248171079\n",
       "6. -2.07457542577666\n",
       "7. -2.32047923673081\n",
       "8. -1.15647262175389\n",
       "9. -4.07280413153088\n",
       "10. -3.64997529125921\n",
       "\n",
       "\n"
      ],
      "text/plain": [
       " [1]  1.9917316  1.3290356  0.1685717  0.8023019 -2.1219525 -2.0745754\n",
       " [7] -2.3204792 -1.1564726 -4.0728041 -3.6499753"
      ]
     },
     "metadata": {},
     "output_type": "display_data"
    }
   ],
   "source": [
    "cumsum(uniforme/normal)"
   ]
  },
  {
   "cell_type": "code",
   "execution_count": 27,
   "metadata": {},
   "outputs": [
    {
     "data": {
      "image/png": "[encoded data removed]",
      "text/plain": [
       "plot without title"
      ]
     },
     "metadata": {},
     "output_type": "display_data"
    }
   ],
   "source": [
    "plot(cumsum(uniforme/normal),type=\"l\")"
   ]
  },
  {
   "cell_type": "markdown",
   "metadata": {},
   "source": [
    "Assim vemos que o calculo atua sobre o vetor sem a nescessidade de loops"
   ]
  },
  {
   "cell_type": "markdown",
   "metadata": {},
   "source": [
    "Podemos facilmente gerar a distribuição traçando o histograma ou o grafico de densidade"
   ]
  },
  {
   "cell_type": "code",
   "execution_count": 16,
   "metadata": {},
   "outputs": [
    {
     "data": {
      "image/png": "[encoded data removed]",
      "text/plain": [
       "Plot with title “Histogram of uniforme”"
      ]
     },
     "metadata": {},
     "output_type": "display_data"
    }
   ],
   "source": [
    "hist(uniforme)"
   ]
  },
  {
   "cell_type": "code",
   "execution_count": 17,
   "metadata": {},
   "outputs": [
    {
     "data": {
      "image/png": "[encoded data removed]",
      "text/plain": [
       "Plot with title “density.default(x = normal)”"
      ]
     },
     "metadata": {},
     "output_type": "display_data"
    }
   ],
   "source": [
    "plot(density(normal))"
   ]
  },
  {
   "cell_type": "code",
   "execution_count": 19,
   "metadata": {},
   "outputs": [],
   "source": [
    "caracteres=c('Brancas','Pretas','Vermelhas')"
   ]
  },
  {
   "cell_type": "markdown",
   "metadata": {},
   "source": [
    "Utilizando a função sample podemos gerar um vetor aleatorio contendo os elementos de caracteres"
   ]
  },
  {
   "cell_type": "code",
   "execution_count": 21,
   "metadata": {},
   "outputs": [
    {
     "data": {
      "text/html": [
       "<ol class=list-inline>\n",
       "\t<li>'Pretas'</li>\n",
       "\t<li>'Pretas'</li>\n",
       "\t<li>'Pretas'</li>\n",
       "\t<li>'Brancas'</li>\n",
       "\t<li>'Vermelhas'</li>\n",
       "\t<li>'Pretas'</li>\n",
       "\t<li>'Brancas'</li>\n",
       "\t<li>'Pretas'</li>\n",
       "\t<li>'Pretas'</li>\n",
       "\t<li>'Vermelhas'</li>\n",
       "\t<li>'Pretas'</li>\n",
       "\t<li>'Vermelhas'</li>\n",
       "\t<li>'Brancas'</li>\n",
       "\t<li>'Vermelhas'</li>\n",
       "\t<li>'Brancas'</li>\n",
       "\t<li>'Pretas'</li>\n",
       "\t<li>'Vermelhas'</li>\n",
       "\t<li>'Pretas'</li>\n",
       "\t<li>'Brancas'</li>\n",
       "\t<li>'Brancas'</li>\n",
       "\t<li>'Vermelhas'</li>\n",
       "\t<li>'Brancas'</li>\n",
       "\t<li>'Pretas'</li>\n",
       "\t<li>'Vermelhas'</li>\n",
       "\t<li>'Pretas'</li>\n",
       "\t<li>'Brancas'</li>\n",
       "\t<li>'Vermelhas'</li>\n",
       "\t<li>'Vermelhas'</li>\n",
       "\t<li>'Vermelhas'</li>\n",
       "\t<li>'Brancas'</li>\n",
       "\t<li>'Brancas'</li>\n",
       "\t<li>'Vermelhas'</li>\n",
       "\t<li>'Brancas'</li>\n",
       "\t<li>'Vermelhas'</li>\n",
       "\t<li>'Brancas'</li>\n",
       "\t<li>'Vermelhas'</li>\n",
       "\t<li>'Vermelhas'</li>\n",
       "\t<li>'Brancas'</li>\n",
       "\t<li>'Pretas'</li>\n",
       "\t<li>'Pretas'</li>\n",
       "\t<li>'Brancas'</li>\n",
       "\t<li>'Vermelhas'</li>\n",
       "\t<li>'Vermelhas'</li>\n",
       "\t<li>'Pretas'</li>\n",
       "\t<li>'Brancas'</li>\n",
       "\t<li>'Vermelhas'</li>\n",
       "\t<li>'Vermelhas'</li>\n",
       "\t<li>'Brancas'</li>\n",
       "\t<li>'Vermelhas'</li>\n",
       "\t<li>'Pretas'</li>\n",
       "\t<li>'Brancas'</li>\n",
       "\t<li>'Brancas'</li>\n",
       "\t<li>'Vermelhas'</li>\n",
       "\t<li>'Pretas'</li>\n",
       "\t<li>'Pretas'</li>\n",
       "\t<li>'Vermelhas'</li>\n",
       "\t<li>'Vermelhas'</li>\n",
       "\t<li>'Pretas'</li>\n",
       "\t<li>'Vermelhas'</li>\n",
       "\t<li>'Pretas'</li>\n",
       "\t<li>'Brancas'</li>\n",
       "\t<li>'Vermelhas'</li>\n",
       "\t<li>'Brancas'</li>\n",
       "\t<li>'Brancas'</li>\n",
       "\t<li>'Pretas'</li>\n",
       "\t<li>'Vermelhas'</li>\n",
       "\t<li>'Brancas'</li>\n",
       "\t<li>'Brancas'</li>\n",
       "\t<li>'Pretas'</li>\n",
       "\t<li>'Pretas'</li>\n",
       "\t<li>'Pretas'</li>\n",
       "\t<li>'Vermelhas'</li>\n",
       "\t<li>'Vermelhas'</li>\n",
       "\t<li>'Vermelhas'</li>\n",
       "\t<li>'Pretas'</li>\n",
       "\t<li>'Vermelhas'</li>\n",
       "\t<li>'Brancas'</li>\n",
       "\t<li>'Pretas'</li>\n",
       "\t<li>'Brancas'</li>\n",
       "\t<li>'Brancas'</li>\n",
       "\t<li>'Vermelhas'</li>\n",
       "\t<li>'Brancas'</li>\n",
       "\t<li>'Pretas'</li>\n",
       "\t<li>'Vermelhas'</li>\n",
       "\t<li>'Vermelhas'</li>\n",
       "\t<li>'Pretas'</li>\n",
       "\t<li>'Brancas'</li>\n",
       "\t<li>'Pretas'</li>\n",
       "\t<li>'Vermelhas'</li>\n",
       "\t<li>'Pretas'</li>\n",
       "\t<li>'Pretas'</li>\n",
       "\t<li>'Pretas'</li>\n",
       "\t<li>'Pretas'</li>\n",
       "\t<li>'Pretas'</li>\n",
       "\t<li>'Brancas'</li>\n",
       "\t<li>'Brancas'</li>\n",
       "\t<li>'Vermelhas'</li>\n",
       "\t<li>'Pretas'</li>\n",
       "\t<li>'Vermelhas'</li>\n",
       "\t<li>'Pretas'</li>\n",
       "</ol>\n"
      ],
      "text/latex": [
       "\\begin{enumerate*}\n",
       "\\item 'Pretas'\n",
       "\\item 'Pretas'\n",
       "\\item 'Pretas'\n",
       "\\item 'Brancas'\n",
       "\\item 'Vermelhas'\n",
       "\\item 'Pretas'\n",
       "\\item 'Brancas'\n",
       "\\item 'Pretas'\n",
       "\\item 'Pretas'\n",
       "\\item 'Vermelhas'\n",
       "\\item 'Pretas'\n",
       "\\item 'Vermelhas'\n",
       "\\item 'Brancas'\n",
       "\\item 'Vermelhas'\n",
       "\\item 'Brancas'\n",
       "\\item 'Pretas'\n",
       "\\item 'Vermelhas'\n",
       "\\item 'Pretas'\n",
       "\\item 'Brancas'\n",
       "\\item 'Brancas'\n",
       "\\item 'Vermelhas'\n",
       "\\item 'Brancas'\n",
       "\\item 'Pretas'\n",
       "\\item 'Vermelhas'\n",
       "\\item 'Pretas'\n",
       "\\item 'Brancas'\n",
       "\\item 'Vermelhas'\n",
       "\\item 'Vermelhas'\n",
       "\\item 'Vermelhas'\n",
       "\\item 'Brancas'\n",
       "\\item 'Brancas'\n",
       "\\item 'Vermelhas'\n",
       "\\item 'Brancas'\n",
       "\\item 'Vermelhas'\n",
       "\\item 'Brancas'\n",
       "\\item 'Vermelhas'\n",
       "\\item 'Vermelhas'\n",
       "\\item 'Brancas'\n",
       "\\item 'Pretas'\n",
       "\\item 'Pretas'\n",
       "\\item 'Brancas'\n",
       "\\item 'Vermelhas'\n",
       "\\item 'Vermelhas'\n",
       "\\item 'Pretas'\n",
       "\\item 'Brancas'\n",
       "\\item 'Vermelhas'\n",
       "\\item 'Vermelhas'\n",
       "\\item 'Brancas'\n",
       "\\item 'Vermelhas'\n",
       "\\item 'Pretas'\n",
       "\\item 'Brancas'\n",
       "\\item 'Brancas'\n",
       "\\item 'Vermelhas'\n",
       "\\item 'Pretas'\n",
       "\\item 'Pretas'\n",
       "\\item 'Vermelhas'\n",
       "\\item 'Vermelhas'\n",
       "\\item 'Pretas'\n",
       "\\item 'Vermelhas'\n",
       "\\item 'Pretas'\n",
       "\\item 'Brancas'\n",
       "\\item 'Vermelhas'\n",
       "\\item 'Brancas'\n",
       "\\item 'Brancas'\n",
       "\\item 'Pretas'\n",
       "\\item 'Vermelhas'\n",
       "\\item 'Brancas'\n",
       "\\item 'Brancas'\n",
       "\\item 'Pretas'\n",
       "\\item 'Pretas'\n",
       "\\item 'Pretas'\n",
       "\\item 'Vermelhas'\n",
       "\\item 'Vermelhas'\n",
       "\\item 'Vermelhas'\n",
       "\\item 'Pretas'\n",
       "\\item 'Vermelhas'\n",
       "\\item 'Brancas'\n",
       "\\item 'Pretas'\n",
       "\\item 'Brancas'\n",
       "\\item 'Brancas'\n",
       "\\item 'Vermelhas'\n",
       "\\item 'Brancas'\n",
       "\\item 'Pretas'\n",
       "\\item 'Vermelhas'\n",
       "\\item 'Vermelhas'\n",
       "\\item 'Pretas'\n",
       "\\item 'Brancas'\n",
       "\\item 'Pretas'\n",
       "\\item 'Vermelhas'\n",
       "\\item 'Pretas'\n",
       "\\item 'Pretas'\n",
       "\\item 'Pretas'\n",
       "\\item 'Pretas'\n",
       "\\item 'Pretas'\n",
       "\\item 'Brancas'\n",
       "\\item 'Brancas'\n",
       "\\item 'Vermelhas'\n",
       "\\item 'Pretas'\n",
       "\\item 'Vermelhas'\n",
       "\\item 'Pretas'\n",
       "\\end{enumerate*}\n"
      ],
      "text/markdown": [
       "1. 'Pretas'\n",
       "2. 'Pretas'\n",
       "3. 'Pretas'\n",
       "4. 'Brancas'\n",
       "5. 'Vermelhas'\n",
       "6. 'Pretas'\n",
       "7. 'Brancas'\n",
       "8. 'Pretas'\n",
       "9. 'Pretas'\n",
       "10. 'Vermelhas'\n",
       "11. 'Pretas'\n",
       "12. 'Vermelhas'\n",
       "13. 'Brancas'\n",
       "14. 'Vermelhas'\n",
       "15. 'Brancas'\n",
       "16. 'Pretas'\n",
       "17. 'Vermelhas'\n",
       "18. 'Pretas'\n",
       "19. 'Brancas'\n",
       "20. 'Brancas'\n",
       "21. 'Vermelhas'\n",
       "22. 'Brancas'\n",
       "23. 'Pretas'\n",
       "24. 'Vermelhas'\n",
       "25. 'Pretas'\n",
       "26. 'Brancas'\n",
       "27. 'Vermelhas'\n",
       "28. 'Vermelhas'\n",
       "29. 'Vermelhas'\n",
       "30. 'Brancas'\n",
       "31. 'Brancas'\n",
       "32. 'Vermelhas'\n",
       "33. 'Brancas'\n",
       "34. 'Vermelhas'\n",
       "35. 'Brancas'\n",
       "36. 'Vermelhas'\n",
       "37. 'Vermelhas'\n",
       "38. 'Brancas'\n",
       "39. 'Pretas'\n",
       "40. 'Pretas'\n",
       "41. 'Brancas'\n",
       "42. 'Vermelhas'\n",
       "43. 'Vermelhas'\n",
       "44. 'Pretas'\n",
       "45. 'Brancas'\n",
       "46. 'Vermelhas'\n",
       "47. 'Vermelhas'\n",
       "48. 'Brancas'\n",
       "49. 'Vermelhas'\n",
       "50. 'Pretas'\n",
       "51. 'Brancas'\n",
       "52. 'Brancas'\n",
       "53. 'Vermelhas'\n",
       "54. 'Pretas'\n",
       "55. 'Pretas'\n",
       "56. 'Vermelhas'\n",
       "57. 'Vermelhas'\n",
       "58. 'Pretas'\n",
       "59. 'Vermelhas'\n",
       "60. 'Pretas'\n",
       "61. 'Brancas'\n",
       "62. 'Vermelhas'\n",
       "63. 'Brancas'\n",
       "64. 'Brancas'\n",
       "65. 'Pretas'\n",
       "66. 'Vermelhas'\n",
       "67. 'Brancas'\n",
       "68. 'Brancas'\n",
       "69. 'Pretas'\n",
       "70. 'Pretas'\n",
       "71. 'Pretas'\n",
       "72. 'Vermelhas'\n",
       "73. 'Vermelhas'\n",
       "74. 'Vermelhas'\n",
       "75. 'Pretas'\n",
       "76. 'Vermelhas'\n",
       "77. 'Brancas'\n",
       "78. 'Pretas'\n",
       "79. 'Brancas'\n",
       "80. 'Brancas'\n",
       "81. 'Vermelhas'\n",
       "82. 'Brancas'\n",
       "83. 'Pretas'\n",
       "84. 'Vermelhas'\n",
       "85. 'Vermelhas'\n",
       "86. 'Pretas'\n",
       "87. 'Brancas'\n",
       "88. 'Pretas'\n",
       "89. 'Vermelhas'\n",
       "90. 'Pretas'\n",
       "91. 'Pretas'\n",
       "92. 'Pretas'\n",
       "93. 'Pretas'\n",
       "94. 'Pretas'\n",
       "95. 'Brancas'\n",
       "96. 'Brancas'\n",
       "97. 'Vermelhas'\n",
       "98. 'Pretas'\n",
       "99. 'Vermelhas'\n",
       "100. 'Pretas'\n",
       "\n",
       "\n"
      ],
      "text/plain": [
       "  [1] \"Pretas\"    \"Pretas\"    \"Pretas\"    \"Brancas\"   \"Vermelhas\" \"Pretas\"   \n",
       "  [7] \"Brancas\"   \"Pretas\"    \"Pretas\"    \"Vermelhas\" \"Pretas\"    \"Vermelhas\"\n",
       " [13] \"Brancas\"   \"Vermelhas\" \"Brancas\"   \"Pretas\"    \"Vermelhas\" \"Pretas\"   \n",
       " [19] \"Brancas\"   \"Brancas\"   \"Vermelhas\" \"Brancas\"   \"Pretas\"    \"Vermelhas\"\n",
       " [25] \"Pretas\"    \"Brancas\"   \"Vermelhas\" \"Vermelhas\" \"Vermelhas\" \"Brancas\"  \n",
       " [31] \"Brancas\"   \"Vermelhas\" \"Brancas\"   \"Vermelhas\" \"Brancas\"   \"Vermelhas\"\n",
       " [37] \"Vermelhas\" \"Brancas\"   \"Pretas\"    \"Pretas\"    \"Brancas\"   \"Vermelhas\"\n",
       " [43] \"Vermelhas\" \"Pretas\"    \"Brancas\"   \"Vermelhas\" \"Vermelhas\" \"Brancas\"  \n",
       " [49] \"Vermelhas\" \"Pretas\"    \"Brancas\"   \"Brancas\"   \"Vermelhas\" \"Pretas\"   \n",
       " [55] \"Pretas\"    \"Vermelhas\" \"Vermelhas\" \"Pretas\"    \"Vermelhas\" \"Pretas\"   \n",
       " [61] \"Brancas\"   \"Vermelhas\" \"Brancas\"   \"Brancas\"   \"Pretas\"    \"Vermelhas\"\n",
       " [67] \"Brancas\"   \"Brancas\"   \"Pretas\"    \"Pretas\"    \"Pretas\"    \"Vermelhas\"\n",
       " [73] \"Vermelhas\" \"Vermelhas\" \"Pretas\"    \"Vermelhas\" \"Brancas\"   \"Pretas\"   \n",
       " [79] \"Brancas\"   \"Brancas\"   \"Vermelhas\" \"Brancas\"   \"Pretas\"    \"Vermelhas\"\n",
       " [85] \"Vermelhas\" \"Pretas\"    \"Brancas\"   \"Pretas\"    \"Vermelhas\" \"Pretas\"   \n",
       " [91] \"Pretas\"    \"Pretas\"    \"Pretas\"    \"Pretas\"    \"Brancas\"   \"Brancas\"  \n",
       " [97] \"Vermelhas\" \"Pretas\"    \"Vermelhas\" \"Pretas\"   "
      ]
     },
     "metadata": {},
     "output_type": "display_data"
    }
   ],
   "source": [
    "Aleatorio=sample(caracteres,100,replace=TRUE)\n",
    "Aleatorio"
   ]
  },
  {
   "cell_type": "code",
   "execution_count": 22,
   "metadata": {},
   "outputs": [
    {
     "data": {
      "text/plain": [
       "Aleatorio\n",
       "  Brancas    Pretas Vermelhas \n",
       "       30        35        35 "
      ]
     },
     "metadata": {},
     "output_type": "display_data"
    }
   ],
   "source": [
    "table(Aleatorio)"
   ]
  },
  {
   "cell_type": "markdown",
   "metadata": {},
   "source": [
    "A função table nos mostra a frequencia de cada elemento contido"
   ]
  },
  {
   "cell_type": "code",
   "execution_count": 23,
   "metadata": {},
   "outputs": [
    {
     "data": {
      "text/html": [
       "<ol class=list-inline>\n",
       "\t<li>TRUE</li>\n",
       "\t<li>TRUE</li>\n",
       "\t<li>TRUE</li>\n",
       "\t<li>TRUE</li>\n",
       "\t<li>FALSE</li>\n",
       "\t<li>TRUE</li>\n",
       "\t<li>TRUE</li>\n",
       "\t<li>TRUE</li>\n",
       "\t<li>TRUE</li>\n",
       "\t<li>FALSE</li>\n",
       "\t<li>TRUE</li>\n",
       "\t<li>FALSE</li>\n",
       "\t<li>TRUE</li>\n",
       "\t<li>FALSE</li>\n",
       "\t<li>TRUE</li>\n",
       "\t<li>TRUE</li>\n",
       "\t<li>FALSE</li>\n",
       "\t<li>TRUE</li>\n",
       "\t<li>TRUE</li>\n",
       "\t<li>TRUE</li>\n",
       "\t<li>FALSE</li>\n",
       "\t<li>TRUE</li>\n",
       "\t<li>TRUE</li>\n",
       "\t<li>FALSE</li>\n",
       "\t<li>TRUE</li>\n",
       "\t<li>TRUE</li>\n",
       "\t<li>FALSE</li>\n",
       "\t<li>FALSE</li>\n",
       "\t<li>FALSE</li>\n",
       "\t<li>TRUE</li>\n",
       "\t<li>TRUE</li>\n",
       "\t<li>FALSE</li>\n",
       "\t<li>TRUE</li>\n",
       "\t<li>FALSE</li>\n",
       "\t<li>TRUE</li>\n",
       "\t<li>FALSE</li>\n",
       "\t<li>FALSE</li>\n",
       "\t<li>TRUE</li>\n",
       "\t<li>TRUE</li>\n",
       "\t<li>TRUE</li>\n",
       "\t<li>TRUE</li>\n",
       "\t<li>FALSE</li>\n",
       "\t<li>FALSE</li>\n",
       "\t<li>TRUE</li>\n",
       "\t<li>TRUE</li>\n",
       "\t<li>FALSE</li>\n",
       "\t<li>FALSE</li>\n",
       "\t<li>TRUE</li>\n",
       "\t<li>FALSE</li>\n",
       "\t<li>TRUE</li>\n",
       "\t<li>TRUE</li>\n",
       "\t<li>TRUE</li>\n",
       "\t<li>FALSE</li>\n",
       "\t<li>TRUE</li>\n",
       "\t<li>TRUE</li>\n",
       "\t<li>FALSE</li>\n",
       "\t<li>FALSE</li>\n",
       "\t<li>TRUE</li>\n",
       "\t<li>FALSE</li>\n",
       "\t<li>TRUE</li>\n",
       "\t<li>TRUE</li>\n",
       "\t<li>FALSE</li>\n",
       "\t<li>TRUE</li>\n",
       "\t<li>TRUE</li>\n",
       "\t<li>TRUE</li>\n",
       "\t<li>FALSE</li>\n",
       "\t<li>TRUE</li>\n",
       "\t<li>TRUE</li>\n",
       "\t<li>TRUE</li>\n",
       "\t<li>TRUE</li>\n",
       "\t<li>TRUE</li>\n",
       "\t<li>FALSE</li>\n",
       "\t<li>FALSE</li>\n",
       "\t<li>FALSE</li>\n",
       "\t<li>TRUE</li>\n",
       "\t<li>FALSE</li>\n",
       "\t<li>TRUE</li>\n",
       "\t<li>TRUE</li>\n",
       "\t<li>TRUE</li>\n",
       "\t<li>TRUE</li>\n",
       "\t<li>FALSE</li>\n",
       "\t<li>TRUE</li>\n",
       "\t<li>TRUE</li>\n",
       "\t<li>FALSE</li>\n",
       "\t<li>FALSE</li>\n",
       "\t<li>TRUE</li>\n",
       "\t<li>TRUE</li>\n",
       "\t<li>TRUE</li>\n",
       "\t<li>FALSE</li>\n",
       "\t<li>TRUE</li>\n",
       "\t<li>TRUE</li>\n",
       "\t<li>TRUE</li>\n",
       "\t<li>TRUE</li>\n",
       "\t<li>TRUE</li>\n",
       "\t<li>TRUE</li>\n",
       "\t<li>TRUE</li>\n",
       "\t<li>FALSE</li>\n",
       "\t<li>TRUE</li>\n",
       "\t<li>FALSE</li>\n",
       "\t<li>TRUE</li>\n",
       "</ol>\n"
      ],
      "text/latex": [
       "\\begin{enumerate*}\n",
       "\\item TRUE\n",
       "\\item TRUE\n",
       "\\item TRUE\n",
       "\\item TRUE\n",
       "\\item FALSE\n",
       "\\item TRUE\n",
       "\\item TRUE\n",
       "\\item TRUE\n",
       "\\item TRUE\n",
       "\\item FALSE\n",
       "\\item TRUE\n",
       "\\item FALSE\n",
       "\\item TRUE\n",
       "\\item FALSE\n",
       "\\item TRUE\n",
       "\\item TRUE\n",
       "\\item FALSE\n",
       "\\item TRUE\n",
       "\\item TRUE\n",
       "\\item TRUE\n",
       "\\item FALSE\n",
       "\\item TRUE\n",
       "\\item TRUE\n",
       "\\item FALSE\n",
       "\\item TRUE\n",
       "\\item TRUE\n",
       "\\item FALSE\n",
       "\\item FALSE\n",
       "\\item FALSE\n",
       "\\item TRUE\n",
       "\\item TRUE\n",
       "\\item FALSE\n",
       "\\item TRUE\n",
       "\\item FALSE\n",
       "\\item TRUE\n",
       "\\item FALSE\n",
       "\\item FALSE\n",
       "\\item TRUE\n",
       "\\item TRUE\n",
       "\\item TRUE\n",
       "\\item TRUE\n",
       "\\item FALSE\n",
       "\\item FALSE\n",
       "\\item TRUE\n",
       "\\item TRUE\n",
       "\\item FALSE\n",
       "\\item FALSE\n",
       "\\item TRUE\n",
       "\\item FALSE\n",
       "\\item TRUE\n",
       "\\item TRUE\n",
       "\\item TRUE\n",
       "\\item FALSE\n",
       "\\item TRUE\n",
       "\\item TRUE\n",
       "\\item FALSE\n",
       "\\item FALSE\n",
       "\\item TRUE\n",
       "\\item FALSE\n",
       "\\item TRUE\n",
       "\\item TRUE\n",
       "\\item FALSE\n",
       "\\item TRUE\n",
       "\\item TRUE\n",
       "\\item TRUE\n",
       "\\item FALSE\n",
       "\\item TRUE\n",
       "\\item TRUE\n",
       "\\item TRUE\n",
       "\\item TRUE\n",
       "\\item TRUE\n",
       "\\item FALSE\n",
       "\\item FALSE\n",
       "\\item FALSE\n",
       "\\item TRUE\n",
       "\\item FALSE\n",
       "\\item TRUE\n",
       "\\item TRUE\n",
       "\\item TRUE\n",
       "\\item TRUE\n",
       "\\item FALSE\n",
       "\\item TRUE\n",
       "\\item TRUE\n",
       "\\item FALSE\n",
       "\\item FALSE\n",
       "\\item TRUE\n",
       "\\item TRUE\n",
       "\\item TRUE\n",
       "\\item FALSE\n",
       "\\item TRUE\n",
       "\\item TRUE\n",
       "\\item TRUE\n",
       "\\item TRUE\n",
       "\\item TRUE\n",
       "\\item TRUE\n",
       "\\item TRUE\n",
       "\\item FALSE\n",
       "\\item TRUE\n",
       "\\item FALSE\n",
       "\\item TRUE\n",
       "\\end{enumerate*}\n"
      ],
      "text/markdown": [
       "1. TRUE\n",
       "2. TRUE\n",
       "3. TRUE\n",
       "4. TRUE\n",
       "5. FALSE\n",
       "6. TRUE\n",
       "7. TRUE\n",
       "8. TRUE\n",
       "9. TRUE\n",
       "10. FALSE\n",
       "11. TRUE\n",
       "12. FALSE\n",
       "13. TRUE\n",
       "14. FALSE\n",
       "15. TRUE\n",
       "16. TRUE\n",
       "17. FALSE\n",
       "18. TRUE\n",
       "19. TRUE\n",
       "20. TRUE\n",
       "21. FALSE\n",
       "22. TRUE\n",
       "23. TRUE\n",
       "24. FALSE\n",
       "25. TRUE\n",
       "26. TRUE\n",
       "27. FALSE\n",
       "28. FALSE\n",
       "29. FALSE\n",
       "30. TRUE\n",
       "31. TRUE\n",
       "32. FALSE\n",
       "33. TRUE\n",
       "34. FALSE\n",
       "35. TRUE\n",
       "36. FALSE\n",
       "37. FALSE\n",
       "38. TRUE\n",
       "39. TRUE\n",
       "40. TRUE\n",
       "41. TRUE\n",
       "42. FALSE\n",
       "43. FALSE\n",
       "44. TRUE\n",
       "45. TRUE\n",
       "46. FALSE\n",
       "47. FALSE\n",
       "48. TRUE\n",
       "49. FALSE\n",
       "50. TRUE\n",
       "51. TRUE\n",
       "52. TRUE\n",
       "53. FALSE\n",
       "54. TRUE\n",
       "55. TRUE\n",
       "56. FALSE\n",
       "57. FALSE\n",
       "58. TRUE\n",
       "59. FALSE\n",
       "60. TRUE\n",
       "61. TRUE\n",
       "62. FALSE\n",
       "63. TRUE\n",
       "64. TRUE\n",
       "65. TRUE\n",
       "66. FALSE\n",
       "67. TRUE\n",
       "68. TRUE\n",
       "69. TRUE\n",
       "70. TRUE\n",
       "71. TRUE\n",
       "72. FALSE\n",
       "73. FALSE\n",
       "74. FALSE\n",
       "75. TRUE\n",
       "76. FALSE\n",
       "77. TRUE\n",
       "78. TRUE\n",
       "79. TRUE\n",
       "80. TRUE\n",
       "81. FALSE\n",
       "82. TRUE\n",
       "83. TRUE\n",
       "84. FALSE\n",
       "85. FALSE\n",
       "86. TRUE\n",
       "87. TRUE\n",
       "88. TRUE\n",
       "89. FALSE\n",
       "90. TRUE\n",
       "91. TRUE\n",
       "92. TRUE\n",
       "93. TRUE\n",
       "94. TRUE\n",
       "95. TRUE\n",
       "96. TRUE\n",
       "97. FALSE\n",
       "98. TRUE\n",
       "99. FALSE\n",
       "100. TRUE\n",
       "\n",
       "\n"
      ],
      "text/plain": [
       "  [1]  TRUE  TRUE  TRUE  TRUE FALSE  TRUE  TRUE  TRUE  TRUE FALSE  TRUE FALSE\n",
       " [13]  TRUE FALSE  TRUE  TRUE FALSE  TRUE  TRUE  TRUE FALSE  TRUE  TRUE FALSE\n",
       " [25]  TRUE  TRUE FALSE FALSE FALSE  TRUE  TRUE FALSE  TRUE FALSE  TRUE FALSE\n",
       " [37] FALSE  TRUE  TRUE  TRUE  TRUE FALSE FALSE  TRUE  TRUE FALSE FALSE  TRUE\n",
       " [49] FALSE  TRUE  TRUE  TRUE FALSE  TRUE  TRUE FALSE FALSE  TRUE FALSE  TRUE\n",
       " [61]  TRUE FALSE  TRUE  TRUE  TRUE FALSE  TRUE  TRUE  TRUE  TRUE  TRUE FALSE\n",
       " [73] FALSE FALSE  TRUE FALSE  TRUE  TRUE  TRUE  TRUE FALSE  TRUE  TRUE FALSE\n",
       " [85] FALSE  TRUE  TRUE  TRUE FALSE  TRUE  TRUE  TRUE  TRUE  TRUE  TRUE  TRUE\n",
       " [97] FALSE  TRUE FALSE  TRUE"
      ]
     },
     "metadata": {},
     "output_type": "display_data"
    }
   ],
   "source": [
    "Aleatorio==\"Pretas\" | Aleatorio ==\"Brancas\""
   ]
  },
  {
   "cell_type": "markdown",
   "metadata": {},
   "source": [
    "Nos retorna o vetor logico que satisfaz a condição, se quisessemos os indices em que isto é verdadeiro"
   ]
  },
  {
   "cell_type": "code",
   "execution_count": 24,
   "metadata": {},
   "outputs": [
    {
     "data": {
      "text/html": [
       "<ol class=list-inline>\n",
       "\t<li>1</li>\n",
       "\t<li>2</li>\n",
       "\t<li>3</li>\n",
       "\t<li>4</li>\n",
       "\t<li>6</li>\n",
       "\t<li>7</li>\n",
       "\t<li>8</li>\n",
       "\t<li>9</li>\n",
       "\t<li>11</li>\n",
       "\t<li>13</li>\n",
       "\t<li>15</li>\n",
       "\t<li>16</li>\n",
       "\t<li>18</li>\n",
       "\t<li>19</li>\n",
       "\t<li>20</li>\n",
       "\t<li>22</li>\n",
       "\t<li>23</li>\n",
       "\t<li>25</li>\n",
       "\t<li>26</li>\n",
       "\t<li>30</li>\n",
       "\t<li>31</li>\n",
       "\t<li>33</li>\n",
       "\t<li>35</li>\n",
       "\t<li>38</li>\n",
       "\t<li>39</li>\n",
       "\t<li>40</li>\n",
       "\t<li>41</li>\n",
       "\t<li>44</li>\n",
       "\t<li>45</li>\n",
       "\t<li>48</li>\n",
       "\t<li>50</li>\n",
       "\t<li>51</li>\n",
       "\t<li>52</li>\n",
       "\t<li>54</li>\n",
       "\t<li>55</li>\n",
       "\t<li>58</li>\n",
       "\t<li>60</li>\n",
       "\t<li>61</li>\n",
       "\t<li>63</li>\n",
       "\t<li>64</li>\n",
       "\t<li>65</li>\n",
       "\t<li>67</li>\n",
       "\t<li>68</li>\n",
       "\t<li>69</li>\n",
       "\t<li>70</li>\n",
       "\t<li>71</li>\n",
       "\t<li>75</li>\n",
       "\t<li>77</li>\n",
       "\t<li>78</li>\n",
       "\t<li>79</li>\n",
       "\t<li>80</li>\n",
       "\t<li>82</li>\n",
       "\t<li>83</li>\n",
       "\t<li>86</li>\n",
       "\t<li>87</li>\n",
       "\t<li>88</li>\n",
       "\t<li>90</li>\n",
       "\t<li>91</li>\n",
       "\t<li>92</li>\n",
       "\t<li>93</li>\n",
       "\t<li>94</li>\n",
       "\t<li>95</li>\n",
       "\t<li>96</li>\n",
       "\t<li>98</li>\n",
       "\t<li>100</li>\n",
       "</ol>\n"
      ],
      "text/latex": [
       "\\begin{enumerate*}\n",
       "\\item 1\n",
       "\\item 2\n",
       "\\item 3\n",
       "\\item 4\n",
       "\\item 6\n",
       "\\item 7\n",
       "\\item 8\n",
       "\\item 9\n",
       "\\item 11\n",
       "\\item 13\n",
       "\\item 15\n",
       "\\item 16\n",
       "\\item 18\n",
       "\\item 19\n",
       "\\item 20\n",
       "\\item 22\n",
       "\\item 23\n",
       "\\item 25\n",
       "\\item 26\n",
       "\\item 30\n",
       "\\item 31\n",
       "\\item 33\n",
       "\\item 35\n",
       "\\item 38\n",
       "\\item 39\n",
       "\\item 40\n",
       "\\item 41\n",
       "\\item 44\n",
       "\\item 45\n",
       "\\item 48\n",
       "\\item 50\n",
       "\\item 51\n",
       "\\item 52\n",
       "\\item 54\n",
       "\\item 55\n",
       "\\item 58\n",
       "\\item 60\n",
       "\\item 61\n",
       "\\item 63\n",
       "\\item 64\n",
       "\\item 65\n",
       "\\item 67\n",
       "\\item 68\n",
       "\\item 69\n",
       "\\item 70\n",
       "\\item 71\n",
       "\\item 75\n",
       "\\item 77\n",
       "\\item 78\n",
       "\\item 79\n",
       "\\item 80\n",
       "\\item 82\n",
       "\\item 83\n",
       "\\item 86\n",
       "\\item 87\n",
       "\\item 88\n",
       "\\item 90\n",
       "\\item 91\n",
       "\\item 92\n",
       "\\item 93\n",
       "\\item 94\n",
       "\\item 95\n",
       "\\item 96\n",
       "\\item 98\n",
       "\\item 100\n",
       "\\end{enumerate*}\n"
      ],
      "text/markdown": [
       "1. 1\n",
       "2. 2\n",
       "3. 3\n",
       "4. 4\n",
       "5. 6\n",
       "6. 7\n",
       "7. 8\n",
       "8. 9\n",
       "9. 11\n",
       "10. 13\n",
       "11. 15\n",
       "12. 16\n",
       "13. 18\n",
       "14. 19\n",
       "15. 20\n",
       "16. 22\n",
       "17. 23\n",
       "18. 25\n",
       "19. 26\n",
       "20. 30\n",
       "21. 31\n",
       "22. 33\n",
       "23. 35\n",
       "24. 38\n",
       "25. 39\n",
       "26. 40\n",
       "27. 41\n",
       "28. 44\n",
       "29. 45\n",
       "30. 48\n",
       "31. 50\n",
       "32. 51\n",
       "33. 52\n",
       "34. 54\n",
       "35. 55\n",
       "36. 58\n",
       "37. 60\n",
       "38. 61\n",
       "39. 63\n",
       "40. 64\n",
       "41. 65\n",
       "42. 67\n",
       "43. 68\n",
       "44. 69\n",
       "45. 70\n",
       "46. 71\n",
       "47. 75\n",
       "48. 77\n",
       "49. 78\n",
       "50. 79\n",
       "51. 80\n",
       "52. 82\n",
       "53. 83\n",
       "54. 86\n",
       "55. 87\n",
       "56. 88\n",
       "57. 90\n",
       "58. 91\n",
       "59. 92\n",
       "60. 93\n",
       "61. 94\n",
       "62. 95\n",
       "63. 96\n",
       "64. 98\n",
       "65. 100\n",
       "\n",
       "\n"
      ],
      "text/plain": [
       " [1]   1   2   3   4   6   7   8   9  11  13  15  16  18  19  20  22  23  25  26\n",
       "[20]  30  31  33  35  38  39  40  41  44  45  48  50  51  52  54  55  58  60  61\n",
       "[39]  63  64  65  67  68  69  70  71  75  77  78  79  80  82  83  86  87  88  90\n",
       "[58]  91  92  93  94  95  96  98 100"
      ]
     },
     "metadata": {},
     "output_type": "display_data"
    }
   ],
   "source": [
    "which(Aleatorio==\"Pretas\" | Aleatorio ==\"Brancas\")"
   ]
  },
  {
   "cell_type": "markdown",
   "metadata": {},
   "source": [
    "#### Exercicio Vetores\n",
    "\n",
    "\n",
    "\n",
    "Palindromos são palavras que são iguais independente se são lidas da direita para esquerda ou inverso.\n",
    "\n",
    "Teste se as seguintes palavras são palindromos.\n",
    "\n",
    "ovo\n",
    "radar\n",
    "raiar\n",
    "\n",
    "Roma me tem amor\n",
    "A mala nada na lama.\n",
    "A grama é amarga.\n",
    "\n",
    "Desafio extra: faca a operação sem utilizar estrutura de loop\n",
    "\n",
    "Dica para separar palavras ou frases em vetores de caracteres utilize  unlist(strsplit(palavra,\"\"))\n"
   ]
  },
  {
   "cell_type": "markdown",
   "metadata": {},
   "source": [
    "# Exercicio 2 Desafio\n",
    "\n",
    "O Teorema do valor medio afirma que dado uma distribuição de probabilidade, se amostrarmos um subconjunto de valores destes e calcularmos a media, A distribuição destas medias será uma normal\n",
    "\n",
    "Para este exercicio voce utilizara as informações contidas neste notebook: algum das funções de numeros aleátorios para gerar uma distribuição, sample para amostrar e mean para calcular a media\n",
    "\n"
   ]
  },
  {
   "cell_type": "code",
   "execution_count": null,
   "metadata": {},
   "outputs": [],
   "source": []
  }
 ],
 "metadata": {
  "kernelspec": {
   "display_name": "R",
   "language": "R",
   "name": "ir"
  },
  "language_info": {
   "codemirror_mode": "r",
   "file_extension": ".r",
   "mimetype": "text/x-r-source",
   "name": "R",
   "pygments_lexer": "r",
   "version": "3.4.4"
  }
 },
 "nbformat": 4,
 "nbformat_minor": 2
}
