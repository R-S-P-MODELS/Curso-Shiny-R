{
 "cells": [
  {
   "cell_type": "markdown",
   "metadata": {},
   "source": [
    "<!DOCTYPE html>\n",
    "<html>\n",
    "    <head>\n",
    "        <meta name=\\\"viewport\\\" content=\\\"width=device-width initial-scale=1\\\">\n",
    "        <style>\n",
    "            * {\n",
    "            box-sizing: border-box;\n",
    "            }\n",
    "            .row {\n",
    "            display: flex;\n",
    "            }\n",
    "            .column {\n",
    "            flex: 33.33%;\n",
    "            padding: 5px;\n",
    "            }\n",
    "        </style>\n",
    "    </head>\n",
    "    <body>\n",
    "        <div class=\"row\">\n",
    "            <div class=\"column\">\n",
    "                <img src=\"http://www.lncc.br/images/logo_lncc.png\" alt=\"LNCC\" style=\"width:18%\" align=\"left\">\n",
    "            </div>\n",
    "            <div class=\"column\">\n",
    "                <img src=\"http://dexl.lncc.br/files/logo_dexl_rgb.jpg\" alt=\"Dexl\" style=\"width:22%;margin-left:400px;margin-top:10px\">\n",
    "            </div>\n",
    "            <div class=\"column\">\n",
    "                <img src=\"https://upload.wikimedia.org/wikipedia/pt/7/71/Cnpq-logo.jpg\" alt=\"CENPES\" style=\"width:20%;margin-top:-47px\" align=\"right\">\n",
    "            </div>\n",
    "        </div>\n",
    "        <hr>\n",
    "        <div align=\"middle\">\n",
    "            <h2>Desenvolvimento de Web Apps via Shiny R</h2>\n",
    "            <h3>EAMC 2020</h3>\n",
    "            <h4>Instrutor: Rafael Silva Pereira</h4> \n",
    "        </div>\n",
    "    </body>\n",
    "</html>"
   ]
  },
  {
   "cell_type": "markdown",
   "metadata": {},
   "source": [
    "Neste notebook introduzimos o usuario a listas\n",
    "\n",
    "Listas apresentam se como uma estrutura generica do R, capaz de armazenar qualquer estrutura em seus indices\n",
    "\n",
    "Na construção de novas estruturas, é possivel utilizar se de uma lista como estrutura base para armazenar os atributos associados ao objeto\n",
    "\n",
    "Para iniciar instanciemos um escalar, um vetor, uma matriz e um DataFrame"
   ]
  },
  {
   "cell_type": "code",
   "execution_count": 1,
   "metadata": {},
   "outputs": [],
   "source": [
    "escalar=1\n",
    "vetor=runif(10,2,5)\n",
    "matriz=matrix(rnorm(100,2,5),10,10)\n",
    "dataframe=read.csv(\"Kickstarter.csv\")"
   ]
  },
  {
   "cell_type": "markdown",
   "metadata": {},
   "source": [
    "Agora podemos criar uma lista que armazenara todos estes objetos"
   ]
  },
  {
   "cell_type": "code",
   "execution_count": 2,
   "metadata": {},
   "outputs": [],
   "source": [
    "Lista=list(escalar=escalar,vetor=vetor,matriz=matriz,dataframe=dataframe  )"
   ]
  },
  {
   "cell_type": "code",
   "execution_count": 3,
   "metadata": {},
   "outputs": [
    {
     "data": {
      "text/html": [
       "'list'"
      ],
      "text/latex": [
       "'list'"
      ],
      "text/markdown": [
       "'list'"
      ],
      "text/plain": [
       "[1] \"list\""
      ]
     },
     "metadata": {},
     "output_type": "display_data"
    }
   ],
   "source": [
    "class(Lista)"
   ]
  },
  {
   "cell_type": "code",
   "execution_count": 4,
   "metadata": {},
   "outputs": [
    {
     "data": {
      "text/html": [
       "4"
      ],
      "text/latex": [
       "4"
      ],
      "text/markdown": [
       "4"
      ],
      "text/plain": [
       "[1] 4"
      ]
     },
     "metadata": {},
     "output_type": "display_data"
    }
   ],
   "source": [
    "length(Lista)"
   ]
  },
  {
   "cell_type": "code",
   "execution_count": 5,
   "metadata": {},
   "outputs": [
    {
     "data": {
      "text/html": [
       "<ol class=list-inline>\n",
       "\t<li>'escalar'</li>\n",
       "\t<li>'vetor'</li>\n",
       "\t<li>'matriz'</li>\n",
       "\t<li>'dataframe'</li>\n",
       "</ol>\n"
      ],
      "text/latex": [
       "\\begin{enumerate*}\n",
       "\\item 'escalar'\n",
       "\\item 'vetor'\n",
       "\\item 'matriz'\n",
       "\\item 'dataframe'\n",
       "\\end{enumerate*}\n"
      ],
      "text/markdown": [
       "1. 'escalar'\n",
       "2. 'vetor'\n",
       "3. 'matriz'\n",
       "4. 'dataframe'\n",
       "\n",
       "\n"
      ],
      "text/plain": [
       "[1] \"escalar\"   \"vetor\"     \"matriz\"    \"dataframe\""
      ]
     },
     "metadata": {},
     "output_type": "display_data"
    }
   ],
   "source": [
    "names(Lista)"
   ]
  },
  {
   "cell_type": "markdown",
   "metadata": {},
   "source": [
    "Vemos então que Lista é uma lista, esta possui 4 elementos diferentes, podemos acessar estes por indice ou como atributos do objeto lista"
   ]
  },
  {
   "cell_type": "code",
   "execution_count": 6,
   "metadata": {},
   "outputs": [
    {
     "data": {
      "text/html": [
       "1"
      ],
      "text/latex": [
       "1"
      ],
      "text/markdown": [
       "1"
      ],
      "text/plain": [
       "[1] 1"
      ]
     },
     "metadata": {},
     "output_type": "display_data"
    }
   ],
   "source": [
    "Lista[[1]]"
   ]
  },
  {
   "cell_type": "code",
   "execution_count": 7,
   "metadata": {},
   "outputs": [
    {
     "data": {
      "text/html": [
       "1"
      ],
      "text/latex": [
       "1"
      ],
      "text/markdown": [
       "1"
      ],
      "text/plain": [
       "[1] 1"
      ]
     },
     "metadata": {},
     "output_type": "display_data"
    }
   ],
   "source": [
    "Lista$escalar"
   ]
  },
  {
   "cell_type": "code",
   "execution_count": 8,
   "metadata": {},
   "outputs": [
    {
     "data": {
      "text/html": [
       "<ol class=list-inline>\n",
       "\t<li>TRUE</li>\n",
       "\t<li>TRUE</li>\n",
       "\t<li>TRUE</li>\n",
       "\t<li>TRUE</li>\n",
       "\t<li>TRUE</li>\n",
       "\t<li>TRUE</li>\n",
       "\t<li>TRUE</li>\n",
       "\t<li>TRUE</li>\n",
       "\t<li>TRUE</li>\n",
       "\t<li>TRUE</li>\n",
       "</ol>\n"
      ],
      "text/latex": [
       "\\begin{enumerate*}\n",
       "\\item TRUE\n",
       "\\item TRUE\n",
       "\\item TRUE\n",
       "\\item TRUE\n",
       "\\item TRUE\n",
       "\\item TRUE\n",
       "\\item TRUE\n",
       "\\item TRUE\n",
       "\\item TRUE\n",
       "\\item TRUE\n",
       "\\end{enumerate*}\n"
      ],
      "text/markdown": [
       "1. TRUE\n",
       "2. TRUE\n",
       "3. TRUE\n",
       "4. TRUE\n",
       "5. TRUE\n",
       "6. TRUE\n",
       "7. TRUE\n",
       "8. TRUE\n",
       "9. TRUE\n",
       "10. TRUE\n",
       "\n",
       "\n"
      ],
      "text/plain": [
       " [1] TRUE TRUE TRUE TRUE TRUE TRUE TRUE TRUE TRUE TRUE"
      ]
     },
     "metadata": {},
     "output_type": "display_data"
    }
   ],
   "source": [
    "Lista[[2]] == Lista$vetor"
   ]
  },
  {
   "cell_type": "code",
   "execution_count": 9,
   "metadata": {},
   "outputs": [
    {
     "data": {
      "text/html": [
       "0"
      ],
      "text/latex": [
       "0"
      ],
      "text/markdown": [
       "0"
      ],
      "text/plain": [
       "[1] 0"
      ]
     },
     "metadata": {},
     "output_type": "display_data"
    }
   ],
   "source": [
    "mean(Lista[[3]]-Lista$matriz)"
   ]
  },
  {
   "cell_type": "code",
   "execution_count": 10,
   "metadata": {},
   "outputs": [
    {
     "data": {
      "text/plain": [
       "   Min. 1st Qu.  Median    Mean 3rd Qu.    Max. \n",
       "    0.0    21.0    56.0   154.6   129.0 11686.0 "
      ]
     },
     "metadata": {},
     "output_type": "display_data"
    }
   ],
   "source": [
    "summary(Lista$dataframe$backers_count)"
   ]
  },
  {
   "cell_type": "markdown",
   "metadata": {},
   "source": [
    "Então vemos claramente que a lista permite armazenar em cada indice diferentes estruturas de dados, podemos inclusive inserir novos elementos como por exemplo"
   ]
  },
  {
   "cell_type": "code",
   "execution_count": 11,
   "metadata": {},
   "outputs": [],
   "source": [
    "SegundaLista=list(Frase=\"O Rato Roeu A Roupa Do Rei De Roma\")"
   ]
  },
  {
   "cell_type": "code",
   "execution_count": 12,
   "metadata": {},
   "outputs": [
    {
     "data": {
      "text/html": [
       "'O Rato Roeu A Roupa Do Rei De Roma'"
      ],
      "text/latex": [
       "'O Rato Roeu A Roupa Do Rei De Roma'"
      ],
      "text/markdown": [
       "'O Rato Roeu A Roupa Do Rei De Roma'"
      ],
      "text/plain": [
       "[1] \"O Rato Roeu A Roupa Do Rei De Roma\""
      ]
     },
     "metadata": {},
     "output_type": "display_data"
    }
   ],
   "source": [
    "SegundaLista$Frase"
   ]
  },
  {
   "cell_type": "code",
   "execution_count": 13,
   "metadata": {},
   "outputs": [],
   "source": [
    "Lista=c(Lista,SegundaLista)"
   ]
  },
  {
   "cell_type": "code",
   "execution_count": 14,
   "metadata": {},
   "outputs": [
    {
     "data": {
      "text/html": [
       "<ol class=list-inline>\n",
       "\t<li>'escalar'</li>\n",
       "\t<li>'vetor'</li>\n",
       "\t<li>'matriz'</li>\n",
       "\t<li>'dataframe'</li>\n",
       "\t<li>'Frase'</li>\n",
       "</ol>\n"
      ],
      "text/latex": [
       "\\begin{enumerate*}\n",
       "\\item 'escalar'\n",
       "\\item 'vetor'\n",
       "\\item 'matriz'\n",
       "\\item 'dataframe'\n",
       "\\item 'Frase'\n",
       "\\end{enumerate*}\n"
      ],
      "text/markdown": [
       "1. 'escalar'\n",
       "2. 'vetor'\n",
       "3. 'matriz'\n",
       "4. 'dataframe'\n",
       "5. 'Frase'\n",
       "\n",
       "\n"
      ],
      "text/plain": [
       "[1] \"escalar\"   \"vetor\"     \"matriz\"    \"dataframe\" \"Frase\"    "
      ]
     },
     "metadata": {},
     "output_type": "display_data"
    }
   ],
   "source": [
    "names(Lista)"
   ]
  },
  {
   "cell_type": "code",
   "execution_count": 15,
   "metadata": {},
   "outputs": [
    {
     "data": {
      "text/html": [
       "5"
      ],
      "text/latex": [
       "5"
      ],
      "text/markdown": [
       "5"
      ],
      "text/plain": [
       "[1] 5"
      ]
     },
     "metadata": {},
     "output_type": "display_data"
    }
   ],
   "source": [
    "length(Lista)"
   ]
  },
  {
   "cell_type": "code",
   "execution_count": 16,
   "metadata": {},
   "outputs": [
    {
     "data": {
      "text/html": [
       "'list'"
      ],
      "text/latex": [
       "'list'"
      ],
      "text/markdown": [
       "'list'"
      ],
      "text/plain": [
       "[1] \"list\""
      ]
     },
     "metadata": {},
     "output_type": "display_data"
    }
   ],
   "source": [
    "class(Lista)"
   ]
  },
  {
   "cell_type": "code",
   "execution_count": 17,
   "metadata": {},
   "outputs": [
    {
     "name": "stdout",
     "output_type": "stream",
     "text": [
      "[1] \"numeric\"\n",
      "[1] \"numeric\"\n",
      "[1] \"matrix\"\n",
      "[1] \"data.frame\"\n",
      "[1] \"character\"\n"
     ]
    }
   ],
   "source": [
    "for( i in 1:length(Lista))\n",
    "    print(class(Lista[[i]]))"
   ]
  },
  {
   "cell_type": "code",
   "execution_count": 18,
   "metadata": {},
   "outputs": [
    {
     "data": {
      "text/html": [
       "34"
      ],
      "text/latex": [
       "34"
      ],
      "text/markdown": [
       "34"
      ],
      "text/plain": [
       "[1] 34"
      ]
     },
     "metadata": {},
     "output_type": "display_data"
    }
   ],
   "source": [
    "nchar(Lista$Frase)"
   ]
  },
  {
   "cell_type": "code",
   "execution_count": 19,
   "metadata": {},
   "outputs": [
    {
     "data": {
      "text/plain": [
       "\n",
       "  a A D e i m o O p R t u \n",
       "8 3 1 2 3 1 1 5 1 1 5 1 2 "
      ]
     },
     "metadata": {},
     "output_type": "display_data"
    }
   ],
   "source": [
    "table(unlist(strsplit(Lista$Frase,\"\")  ) )"
   ]
  },
  {
   "cell_type": "markdown",
   "metadata": {},
   "source": [
    "que representa a distribuição de letras utilizadas nesta frase, se quisesse de palavras é nescessario so trocar o parametro split por um espaço"
   ]
  },
  {
   "cell_type": "markdown",
   "metadata": {},
   "source": [
    "Todas as operações comums ainda podem atuar acessando os elementos pela lista, por exemplo"
   ]
  },
  {
   "cell_type": "code",
   "execution_count": 20,
   "metadata": {},
   "outputs": [
    {
     "data": {
      "text/html": [
       "<ol class=list-inline>\n",
       "\t<li>2.85834981617518</li>\n",
       "\t<li>4.73136750655249</li>\n",
       "\t<li>2.34989724704064</li>\n",
       "\t<li>2.53079049056396</li>\n",
       "\t<li>4.41567591368221</li>\n",
       "\t<li>4.38090202515014</li>\n",
       "\t<li>3.10388728999533</li>\n",
       "\t<li>4.09472151240334</li>\n",
       "\t<li>3.73116946266964</li>\n",
       "\t<li>4.1770389652811</li>\n",
       "</ol>\n"
      ],
      "text/latex": [
       "\\begin{enumerate*}\n",
       "\\item 2.85834981617518\n",
       "\\item 4.73136750655249\n",
       "\\item 2.34989724704064\n",
       "\\item 2.53079049056396\n",
       "\\item 4.41567591368221\n",
       "\\item 4.38090202515014\n",
       "\\item 3.10388728999533\n",
       "\\item 4.09472151240334\n",
       "\\item 3.73116946266964\n",
       "\\item 4.1770389652811\n",
       "\\end{enumerate*}\n"
      ],
      "text/markdown": [
       "1. 2.85834981617518\n",
       "2. 4.73136750655249\n",
       "3. 2.34989724704064\n",
       "4. 2.53079049056396\n",
       "5. 4.41567591368221\n",
       "6. 4.38090202515014\n",
       "7. 3.10388728999533\n",
       "8. 4.09472151240334\n",
       "9. 3.73116946266964\n",
       "10. 4.1770389652811\n",
       "\n",
       "\n"
      ],
      "text/plain": [
       " [1] 2.858350 4.731368 2.349897 2.530790 4.415676 4.380902 3.103887 4.094722\n",
       " [9] 3.731169 4.177039"
      ]
     },
     "metadata": {},
     "output_type": "display_data"
    }
   ],
   "source": [
    "Lista$escalar * Lista$vetor"
   ]
  },
  {
   "cell_type": "code",
   "execution_count": 21,
   "metadata": {},
   "outputs": [
    {
     "data": {
      "text/html": [
       "3.15309172439991"
      ],
      "text/latex": [
       "3.15309172439991"
      ],
      "text/markdown": [
       "3.15309172439991"
      ],
      "text/plain": [
       "[1] 3.153092"
      ]
     },
     "metadata": {},
     "output_type": "display_data"
    }
   ],
   "source": [
    "mean(colMeans(Lista$matriz) * Lista$vetor )"
   ]
  },
  {
   "cell_type": "markdown",
   "metadata": {},
   "source": [
    "Uma lista pode armazenar qualquer tipo de variavel instanciada na linguagem, isto inclui por exemplo representações de audio, dados de imagens, modelos treinados de machine learning, entre outros"
   ]
  },
  {
   "cell_type": "markdown",
   "metadata": {},
   "source": [
    "# Exercicio 1\n",
    "\n",
    "Gere uma lista chamada lista com elementos vetor,matriz sendo respectivamente um vetor de 3 elementos de distribuicao uniforme, e matriz uma matriz 3x3 de distribuicao normal\n",
    "\n",
    "Qual a diferenca entre lista[1], lista[[1]] e lista$vetor?\n",
    "\n",
    "O que ocorre na operação lista[['vetor']] * lista[['matriz']]\n",
    "\n",
    "\n",
    "O que devemos adicionar a operação para que esta seja equivalente a  lista[['vetor']]\n",
    " %*% lista[['matriz']]\n",
    "\n"
   ]
  },
  {
   "cell_type": "markdown",
   "metadata": {},
   "source": [
    "# Exercicio 2 Desafio"
   ]
  }
 ],
 "metadata": {
  "kernelspec": {
   "display_name": "R",
   "language": "R",
   "name": "ir"
  },
  "language_info": {
   "codemirror_mode": "r",
   "file_extension": ".r",
   "mimetype": "text/x-r-source",
   "name": "R",
   "pygments_lexer": "r",
   "version": "3.4.4"
  }
 },
 "nbformat": 4,
 "nbformat_minor": 2
}
