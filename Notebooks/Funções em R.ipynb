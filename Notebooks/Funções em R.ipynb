{
 "cells": [
  {
   "cell_type": "markdown",
   "metadata": {},
   "source": [
    "<!DOCTYPE html>\n",
    "<html>\n",
    "    <head>\n",
    "        <meta name=\\\"viewport\\\" content=\\\"width=device-width initial-scale=1\\\">\n",
    "        <style>\n",
    "            * {\n",
    "            box-sizing: border-box;\n",
    "            }\n",
    "            .row {\n",
    "            display: flex;\n",
    "            }\n",
    "            .column {\n",
    "            flex: 33.33%;\n",
    "            padding: 5px;\n",
    "            }\n",
    "        </style>\n",
    "    </head>\n",
    "    <body>\n",
    "        <div class=\"row\">\n",
    "            <div class=\"column\">\n",
    "                <img src=\"http://www.lncc.br/images/logo_lncc.png\" alt=\"LNCC\" style=\"width:18%\" align=\"left\">\n",
    "            </div>\n",
    "            <div class=\"column\">\n",
    "                <img src=\"http://dexl.lncc.br/files/logo_dexl_rgb.jpg\" alt=\"Dexl\" style=\"width:22%;margin-left:400px;margin-top:10px\">\n",
    "            </div>\n",
    "            <div class=\"column\">\n",
    "                <img src=\"https://upload.wikimedia.org/wikipedia/pt/7/71/Cnpq-logo.jpg\" alt=\"CENPES\" style=\"width:20%;margin-top:-47px\" align=\"right\">\n",
    "            </div>\n",
    "        </div>\n",
    "        <hr>\n",
    "        <div align=\"middle\">\n",
    "            <h2>Desenvolvimento de Web Apps via Shiny R</h2>\n",
    "            <h3>EAMC 2020</h3>\n",
    "            <h4>Instrutor: Rafael Silva Pereira</h4> \n",
    "        </div>\n",
    "    </body>\n",
    "</html>"
   ]
  },
  {
   "cell_type": "markdown",
   "metadata": {},
   "source": [
    "Agora que ja relembramos algumas estruturas de dados, Neste notebook discutiremos sobre funções"
   ]
  },
  {
   "cell_type": "markdown",
   "metadata": {},
   "source": [
    "Uma propriedade interessante da linguagem é o fato em que em uma função R o programador define um conjunto de inputs, operações e outputs, mas sem definir o tipo destes em nenhum momento\n"
   ]
  },
  {
   "cell_type": "markdown",
   "metadata": {},
   "source": [
    "Sendo assim dado um conjunto de inputs In, se as operações OPn podem ser definidas sobre In de forma a gerar saidas Sn, então a função funcionara, Como Exemplo definamos uma função que soma a+b"
   ]
  },
  {
   "cell_type": "code",
   "execution_count": 1,
   "metadata": {},
   "outputs": [],
   "source": [
    "soma<-function(a,b){\n",
    "    return(a+b)\n",
    "}"
   ]
  },
  {
   "cell_type": "markdown",
   "metadata": {},
   "source": [
    "Definimos uma operação de soma, como sabemos a operação de soma é definida para as seguintes variaveis:\n",
    "\n",
    "Escalares\n",
    "\n",
    "Vetores de mesmo tamanho\n",
    "\n",
    "Matrizes de mesma dimensão\n",
    "\n",
    "Escalares com vetores\n",
    "\n",
    "Escalares com matrizes\n",
    "\n",
    "Sendo assim criemos Escalares, vetores e matrizes"
   ]
  },
  {
   "cell_type": "code",
   "execution_count": 2,
   "metadata": {},
   "outputs": [],
   "source": [
    "a=1\n",
    "b=2\n",
    "va=1:3\n",
    "vb=2*va\n",
    "ma=matrix(1:9,3,3)\n",
    "mb=matrix(9:1,3,3)"
   ]
  },
  {
   "cell_type": "code",
   "execution_count": 3,
   "metadata": {},
   "outputs": [
    {
     "data": {
      "text/html": [
       "3"
      ],
      "text/latex": [
       "3"
      ],
      "text/markdown": [
       "3"
      ],
      "text/plain": [
       "[1] 3"
      ]
     },
     "metadata": {},
     "output_type": "display_data"
    }
   ],
   "source": [
    "soma(a,b)"
   ]
  },
  {
   "cell_type": "code",
   "execution_count": 4,
   "metadata": {},
   "outputs": [
    {
     "data": {
      "text/html": [
       "<ol class=list-inline>\n",
       "\t<li>3</li>\n",
       "\t<li>6</li>\n",
       "\t<li>9</li>\n",
       "</ol>\n"
      ],
      "text/latex": [
       "\\begin{enumerate*}\n",
       "\\item 3\n",
       "\\item 6\n",
       "\\item 9\n",
       "\\end{enumerate*}\n"
      ],
      "text/markdown": [
       "1. 3\n",
       "2. 6\n",
       "3. 9\n",
       "\n",
       "\n"
      ],
      "text/plain": [
       "[1] 3 6 9"
      ]
     },
     "metadata": {},
     "output_type": "display_data"
    }
   ],
   "source": [
    "soma(va,vb)"
   ]
  },
  {
   "cell_type": "code",
   "execution_count": 5,
   "metadata": {},
   "outputs": [
    {
     "data": {
      "text/html": [
       "<table>\n",
       "<tbody>\n",
       "\t<tr><td>10</td><td>10</td><td>10</td></tr>\n",
       "\t<tr><td>10</td><td>10</td><td>10</td></tr>\n",
       "\t<tr><td>10</td><td>10</td><td>10</td></tr>\n",
       "</tbody>\n",
       "</table>\n"
      ],
      "text/latex": [
       "\\begin{tabular}{lll}\n",
       "\t 10 & 10 & 10\\\\\n",
       "\t 10 & 10 & 10\\\\\n",
       "\t 10 & 10 & 10\\\\\n",
       "\\end{tabular}\n"
      ],
      "text/markdown": [
       "\n",
       "| 10 | 10 | 10 |\n",
       "| 10 | 10 | 10 |\n",
       "| 10 | 10 | 10 |\n",
       "\n"
      ],
      "text/plain": [
       "     [,1] [,2] [,3]\n",
       "[1,] 10   10   10  \n",
       "[2,] 10   10   10  \n",
       "[3,] 10   10   10  "
      ]
     },
     "metadata": {},
     "output_type": "display_data"
    }
   ],
   "source": [
    "soma(ma,mb)"
   ]
  },
  {
   "cell_type": "code",
   "execution_count": 6,
   "metadata": {},
   "outputs": [
    {
     "data": {
      "text/html": [
       "<ol class=list-inline>\n",
       "\t<li>2</li>\n",
       "\t<li>3</li>\n",
       "\t<li>4</li>\n",
       "</ol>\n"
      ],
      "text/latex": [
       "\\begin{enumerate*}\n",
       "\\item 2\n",
       "\\item 3\n",
       "\\item 4\n",
       "\\end{enumerate*}\n"
      ],
      "text/markdown": [
       "1. 2\n",
       "2. 3\n",
       "3. 4\n",
       "\n",
       "\n"
      ],
      "text/plain": [
       "[1] 2 3 4"
      ]
     },
     "metadata": {},
     "output_type": "display_data"
    }
   ],
   "source": [
    "soma(a,va)"
   ]
  },
  {
   "cell_type": "code",
   "execution_count": 7,
   "metadata": {},
   "outputs": [
    {
     "data": {
      "text/html": [
       "<table>\n",
       "<tbody>\n",
       "\t<tr><td>10</td><td>7 </td><td>4 </td></tr>\n",
       "\t<tr><td> 9</td><td>6 </td><td>3 </td></tr>\n",
       "\t<tr><td> 8</td><td>5 </td><td>2 </td></tr>\n",
       "</tbody>\n",
       "</table>\n"
      ],
      "text/latex": [
       "\\begin{tabular}{lll}\n",
       "\t 10 & 7  & 4 \\\\\n",
       "\t  9 & 6  & 3 \\\\\n",
       "\t  8 & 5  & 2 \\\\\n",
       "\\end{tabular}\n"
      ],
      "text/markdown": [
       "\n",
       "| 10 | 7  | 4  |\n",
       "|  9 | 6  | 3  |\n",
       "|  8 | 5  | 2  |\n",
       "\n"
      ],
      "text/plain": [
       "     [,1] [,2] [,3]\n",
       "[1,] 10   7    4   \n",
       "[2,]  9   6    3   \n",
       "[3,]  8   5    2   "
      ]
     },
     "metadata": {},
     "output_type": "display_data"
    }
   ],
   "source": [
    "soma(a,mb)"
   ]
  },
  {
   "cell_type": "markdown",
   "metadata": {},
   "source": [
    "Assim criamos uma função que atua sobre diferentes tipos de variaveis, sempre realizando a mesma operação, e se a operação nao fosse definida?"
   ]
  },
  {
   "cell_type": "code",
   "execution_count": 8,
   "metadata": {},
   "outputs": [],
   "source": [
    "#Descomente\n",
    "#soma(\"a\",1)\n"
   ]
  },
  {
   "cell_type": "markdown",
   "metadata": {},
   "source": [
    "Curiosamente a operação soma entre o vetor e a matriz ira funcionar, mas retornando um aviso caso o numero de termos não seja multiplo um do outro, utilizando a forma que o fortran le as linhas, repetindo o vetor"
   ]
  },
  {
   "cell_type": "code",
   "execution_count": 9,
   "metadata": {},
   "outputs": [
    {
     "data": {
      "text/html": [
       "<ol class=list-inline>\n",
       "\t<li>1</li>\n",
       "\t<li>2</li>\n",
       "\t<li>3</li>\n",
       "</ol>\n"
      ],
      "text/latex": [
       "\\begin{enumerate*}\n",
       "\\item 1\n",
       "\\item 2\n",
       "\\item 3\n",
       "\\end{enumerate*}\n"
      ],
      "text/markdown": [
       "1. 1\n",
       "2. 2\n",
       "3. 3\n",
       "\n",
       "\n"
      ],
      "text/plain": [
       "[1] 1 2 3"
      ]
     },
     "metadata": {},
     "output_type": "display_data"
    }
   ],
   "source": [
    "va"
   ]
  },
  {
   "cell_type": "code",
   "execution_count": 10,
   "metadata": {},
   "outputs": [
    {
     "data": {
      "text/html": [
       "<table>\n",
       "<tbody>\n",
       "\t<tr><td>1</td><td>4</td><td>7</td></tr>\n",
       "\t<tr><td>2</td><td>5</td><td>8</td></tr>\n",
       "\t<tr><td>3</td><td>6</td><td>9</td></tr>\n",
       "</tbody>\n",
       "</table>\n"
      ],
      "text/latex": [
       "\\begin{tabular}{lll}\n",
       "\t 1 & 4 & 7\\\\\n",
       "\t 2 & 5 & 8\\\\\n",
       "\t 3 & 6 & 9\\\\\n",
       "\\end{tabular}\n"
      ],
      "text/markdown": [
       "\n",
       "| 1 | 4 | 7 |\n",
       "| 2 | 5 | 8 |\n",
       "| 3 | 6 | 9 |\n",
       "\n"
      ],
      "text/plain": [
       "     [,1] [,2] [,3]\n",
       "[1,] 1    4    7   \n",
       "[2,] 2    5    8   \n",
       "[3,] 3    6    9   "
      ]
     },
     "metadata": {},
     "output_type": "display_data"
    }
   ],
   "source": [
    "ma"
   ]
  },
  {
   "cell_type": "code",
   "execution_count": 11,
   "metadata": {},
   "outputs": [
    {
     "data": {
      "text/html": [
       "<table>\n",
       "<tbody>\n",
       "\t<tr><td>2 </td><td>5 </td><td> 8</td></tr>\n",
       "\t<tr><td>4 </td><td>7 </td><td>10</td></tr>\n",
       "\t<tr><td>6 </td><td>9 </td><td>12</td></tr>\n",
       "</tbody>\n",
       "</table>\n"
      ],
      "text/latex": [
       "\\begin{tabular}{lll}\n",
       "\t 2  & 5  &  8\\\\\n",
       "\t 4  & 7  & 10\\\\\n",
       "\t 6  & 9  & 12\\\\\n",
       "\\end{tabular}\n"
      ],
      "text/markdown": [
       "\n",
       "| 2  | 5  |  8 |\n",
       "| 4  | 7  | 10 |\n",
       "| 6  | 9  | 12 |\n",
       "\n"
      ],
      "text/plain": [
       "     [,1] [,2] [,3]\n",
       "[1,] 2    5     8  \n",
       "[2,] 4    7    10  \n",
       "[3,] 6    9    12  "
      ]
     },
     "metadata": {},
     "output_type": "display_data"
    }
   ],
   "source": [
    "soma(va,ma)"
   ]
  },
  {
   "cell_type": "markdown",
   "metadata": {},
   "source": [
    "Se quisessemos Gerar por exemplo a soma como feita no python aonde + concatena strings"
   ]
  },
  {
   "cell_type": "code",
   "execution_count": 12,
   "metadata": {},
   "outputs": [],
   "source": [
    "soma<-function(a,b){\n",
    "    if(class(a)==\"character\" | class(b)==\"character\" )\n",
    "        return(paste(a,b,sep=\"\"))\n",
    "    return(a+b)\n",
    "    \n",
    "}"
   ]
  },
  {
   "cell_type": "code",
   "execution_count": 13,
   "metadata": {},
   "outputs": [
    {
     "data": {
      "text/html": [
       "3"
      ],
      "text/latex": [
       "3"
      ],
      "text/markdown": [
       "3"
      ],
      "text/plain": [
       "[1] 3"
      ]
     },
     "metadata": {},
     "output_type": "display_data"
    }
   ],
   "source": [
    "soma(1,2)"
   ]
  },
  {
   "cell_type": "code",
   "execution_count": 14,
   "metadata": {},
   "outputs": [
    {
     "data": {
      "text/html": [
       "'12'"
      ],
      "text/latex": [
       "'12'"
      ],
      "text/markdown": [
       "'12'"
      ],
      "text/plain": [
       "[1] \"12\""
      ]
     },
     "metadata": {},
     "output_type": "display_data"
    }
   ],
   "source": [
    "soma(1,\"2\")"
   ]
  },
  {
   "cell_type": "code",
   "execution_count": 15,
   "metadata": {},
   "outputs": [
    {
     "data": {
      "text/html": [
       "'LNCC'"
      ],
      "text/latex": [
       "'LNCC'"
      ],
      "text/markdown": [
       "'LNCC'"
      ],
      "text/plain": [
       "[1] \"LNCC\""
      ]
     },
     "metadata": {},
     "output_type": "display_data"
    }
   ],
   "source": [
    "soma(\"LN\",\"CC\")"
   ]
  },
  {
   "cell_type": "markdown",
   "metadata": {},
   "source": [
    "Generalizando esta definição de soma, poderiamos pensar por exemplo que o produto de uma string por um numero n seria mesmo que esta string somada por si mesmo (ou seja concatenada) n vezes, assim poderiamos definir"
   ]
  },
  {
   "cell_type": "code",
   "execution_count": 16,
   "metadata": {},
   "outputs": [],
   "source": [
    "produto=function(a,b){\n",
    "     if( (class(a)==\"character\" & class(b) %in% c(\"integer\",\"numeric\" ) ) | (class(b)==\"character\" & class(a) %in% c(\"integer\",\"numeric\" ) ) )\n",
    "     {\n",
    "         if(class(a)==\"character\")\n",
    "             return(Reduce(paste,sample(a,b,replace=TRUE)) )\n",
    "         else if(class(b)==\"character\")\n",
    "             return(Reduce(paste,sample(b,a,replace=TRUE)) )\n",
    "     }\n",
    "     return(a*b)\n",
    "}"
   ]
  },
  {
   "cell_type": "code",
   "execution_count": 17,
   "metadata": {},
   "outputs": [
    {
     "data": {
      "text/html": [
       "6"
      ],
      "text/latex": [
       "6"
      ],
      "text/markdown": [
       "6"
      ],
      "text/plain": [
       "[1] 6"
      ]
     },
     "metadata": {},
     "output_type": "display_data"
    }
   ],
   "source": [
    "produto(2,3)"
   ]
  },
  {
   "cell_type": "code",
   "execution_count": 18,
   "metadata": {},
   "outputs": [
    {
     "data": {
      "text/html": [
       "<ol class=list-inline>\n",
       "\t<li>3</li>\n",
       "\t<li>4</li>\n",
       "\t<li>3</li>\n",
       "</ol>\n"
      ],
      "text/latex": [
       "\\begin{enumerate*}\n",
       "\\item 3\n",
       "\\item 4\n",
       "\\item 3\n",
       "\\end{enumerate*}\n"
      ],
      "text/markdown": [
       "1. 3\n",
       "2. 4\n",
       "3. 3\n",
       "\n",
       "\n"
      ],
      "text/plain": [
       "[1] 3 4 3"
      ]
     },
     "metadata": {},
     "output_type": "display_data"
    }
   ],
   "source": [
    "produto(1:3,3:1)"
   ]
  },
  {
   "cell_type": "code",
   "execution_count": 19,
   "metadata": {},
   "outputs": [
    {
     "data": {
      "text/html": [
       "'algo algo algo algo algo'"
      ],
      "text/latex": [
       "'algo algo algo algo algo'"
      ],
      "text/markdown": [
       "'algo algo algo algo algo'"
      ],
      "text/plain": [
       "[1] \"algo algo algo algo algo\""
      ]
     },
     "metadata": {},
     "output_type": "display_data"
    }
   ],
   "source": [
    "produto(5,\"algo\")"
   ]
  },
  {
   "cell_type": "markdown",
   "metadata": {},
   "source": [
    "mas claro a função produto não seria definida para duas strings"
   ]
  },
  {
   "cell_type": "markdown",
   "metadata": {},
   "source": [
    "Mas claro podemos querer retornar varios tipos de informações em uma determinada função, por exemplo dado um conjunto de valores numericos retornar media mediana minimo maximo desvio padrão, enquanto se for um conjunto de valores categoricos, retornar distribuição, moda maior numero de caracteres e menor numero de caracteres, para isto utilizaremos uma lista"
   ]
  },
  {
   "cell_type": "code",
   "execution_count": 20,
   "metadata": {},
   "outputs": [],
   "source": [
    "Estatisticas<-function(Informacao){\n",
    "    Resultados<-list()\n",
    "    if(class(Informacao) %in% c('character','factor')){\n",
    "        if(length(Informacao)==1){\n",
    "            Informacao=unlist(strsplit(Informacao,split=\" \"))\n",
    "        }\n",
    "        Resultados=c(Resultados,list(frequencia=table(Informacao)))\n",
    "         Resultados=c(Resultados,list(moda=Resultados$frequencia[as.numeric(which(Resultados$frequencia==max(Resultados$frequencia)))] ) )\n",
    "\n",
    "        \n",
    "        npalavras=c()\n",
    "        for(i in 1:length(Informacao))\n",
    "            npalavras[i]=nchar(Informacao[i])\n",
    "        minimo=Informacao[which.min(npalavras)]\n",
    "        maximo=Informacao[which.max(npalavras)]\n",
    "        \n",
    "        Resultados=c(Resultados,list(Menor=minimo,Maior=maximo))\n",
    "    }\n",
    "    else{\n",
    "        Resultados=c(Resultados,list(media=mean(Informacao),mediana=median(Informacao))) \n",
    "        Resultados=c(Resultados,list(minimo=min(Informacao),maximo=max(Informacao)))\n",
    "        Resultados=c(Resultados,list(desvio=sd(Informacao)) )\n",
    "    }\n",
    "    \n",
    "    return(Resultados)\n",
    "}"
   ]
  },
  {
   "cell_type": "code",
   "execution_count": 21,
   "metadata": {},
   "outputs": [
    {
     "data": {
      "text/html": [
       "<dl>\n",
       "\t<dt>$media</dt>\n",
       "\t\t<dd>0.528973645647056</dd>\n",
       "\t<dt>$mediana</dt>\n",
       "\t\t<dd>0.734992664190941</dd>\n",
       "\t<dt>$minimo</dt>\n",
       "\t\t<dd>-1.24945716513321</dd>\n",
       "\t<dt>$maximo</dt>\n",
       "\t\t<dd>2.96009169844911</dd>\n",
       "\t<dt>$desvio</dt>\n",
       "\t\t<dd>1.24788443396208</dd>\n",
       "</dl>\n"
      ],
      "text/latex": [
       "\\begin{description}\n",
       "\\item[\\$media] 0.528973645647056\n",
       "\\item[\\$mediana] 0.734992664190941\n",
       "\\item[\\$minimo] -1.24945716513321\n",
       "\\item[\\$maximo] 2.96009169844911\n",
       "\\item[\\$desvio] 1.24788443396208\n",
       "\\end{description}\n"
      ],
      "text/markdown": [
       "$media\n",
       ":   0.528973645647056\n",
       "$mediana\n",
       ":   0.734992664190941\n",
       "$minimo\n",
       ":   -1.24945716513321\n",
       "$maximo\n",
       ":   2.96009169844911\n",
       "$desvio\n",
       ":   1.24788443396208\n",
       "\n",
       "\n"
      ],
      "text/plain": [
       "$media\n",
       "[1] 0.5289736\n",
       "\n",
       "$mediana\n",
       "[1] 0.7349927\n",
       "\n",
       "$minimo\n",
       "[1] -1.249457\n",
       "\n",
       "$maximo\n",
       "[1] 2.960092\n",
       "\n",
       "$desvio\n",
       "[1] 1.247884\n"
      ]
     },
     "metadata": {},
     "output_type": "display_data"
    }
   ],
   "source": [
    "Estatisticas(runif(10,-2,3))"
   ]
  },
  {
   "cell_type": "code",
   "execution_count": 22,
   "metadata": {},
   "outputs": [
    {
     "data": {
      "text/plain": [
       "$frequencia\n",
       "Informacao\n",
       "          ao          bem          Bem        curso         dias            e \n",
       "           1            1            1            1            1            1 \n",
       "       EAMC,       espero           no           os proveitosos,     proximos \n",
       "           1            2            1            1            1            1 \n",
       "         que     retornem        sejam       vindos \n",
       "           2            1            2            2 \n",
       "\n",
       "$moda\n",
       "Informacao\n",
       "espero    que  sejam vindos \n",
       "     2      2      2      2 \n",
       "\n",
       "$Menor\n",
       "[1] \"e\"\n",
       "\n",
       "$Maior\n",
       "[1] \"proveitosos,\"\n"
      ]
     },
     "metadata": {},
     "output_type": "display_data"
    }
   ],
   "source": [
    "Estatisticas(\"Bem vindos ao curso no EAMC, espero que os proximos dias sejam proveitosos, sejam bem vindos e espero que retornem\")"
   ]
  },
  {
   "cell_type": "markdown",
   "metadata": {},
   "source": [
    "## Exercicio 1\n",
    "\n",
    "Dado que neste notebook definimos a operação de soma como concatenação entre caracteres e produto como concatenação da string n vezes sobre si mesma, \n",
    "\n",
    "definamos subtração atuando entre duas strings como a primeira palavra menos os caracteres contidos na segunda\n",
    "\n",
    "E definamos divisão entre uma string e um numero como a quebra de uma string em n partes iguais\n",
    "\n",
    "Por exemplo\n",
    "\n",
    "Carro -ar = Cro\n",
    "ar-Carro = \"\"\n",
    "\n",
    "Danca - Canto = Dca\n",
    "\n",
    "\n",
    "Divisao\n",
    "\n",
    "Maca/2 = (\"Ma\",\"ca\")\n",
    "\n",
    "DEXL/4 =(\"D,\"E\",\"X\",\"L\")\n",
    "\n",
    "Luz/2 =(\"Lu,\"z\")\n",
    "\n",
    "Então defina as funções de subtração e divisão de forma que elas ainda funcionem para aonde as operações são definidas e tambem funcionem de acordo com estas definições "
   ]
  },
  {
   "cell_type": "markdown",
   "metadata": {},
   "source": [
    "# Exercicio 2 desafio\n",
    "\n",
    "Considere uma função que receba como entrada um data frame\n",
    "\n",
    "Esta deve fazer os seguintes itens\n",
    "\n",
    "Identificar que pares de colunas contem o mesmo tipo de informação para um modelo ( correlação em modulo de 90% +)\n",
    "\n",
    "Escolher aleatoriamente uma destas colunas  do par e eliminar para todo par\n",
    "\n",
    "Armazenar o dataframe minimo resultante\n",
    "\n",
    "Deste dataframe para os determinados atributos de input remover outliers (Consideremos outliers o superior 1% e inferior 1% da coluna, para categoricas considere um valor que aparece menos que 5% da media de frequencia dos outros valores\n",
    "\n",
    "Retorne o data frame final para o usuario"
   ]
  }
 ],
 "metadata": {
  "kernelspec": {
   "display_name": "R",
   "language": "R",
   "name": "ir"
  },
  "language_info": {
   "codemirror_mode": "r",
   "file_extension": ".r",
   "mimetype": "text/x-r-source",
   "name": "R",
   "pygments_lexer": "r",
   "version": "3.4.4"
  }
 },
 "nbformat": 4,
 "nbformat_minor": 2
}
