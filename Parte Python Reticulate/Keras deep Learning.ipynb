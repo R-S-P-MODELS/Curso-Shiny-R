{
 "cells": [
  {
   "cell_type": "code",
   "execution_count": 1,
   "metadata": {},
   "outputs": [],
   "source": [
    "PredictImage=function(imagem,modelo,pickle,linhas){\n",
    "\trequire(reticulate)\n",
    "\tuse_python(\"/usr/bin/python3\")\n",
    "\trequire(keras)\n",
    "\tu=load_model_hdf5(modelo)\n",
    "\tsource_python(\"classify_function.py\")\n",
    "\tl1=prediction(u,pickle,imagem)\n",
    "\tl1=data.frame(l1)\n",
    "\tl1=l1[order(l1$probability,decreasing=TRUE),]\n",
    "\tif(nrow(l1)<linhas)\n",
    "\t\tprint(l1)\n",
    "\telse\n",
    "\t\tprint(l1[1:linhas,])\n",
    "}"
   ]
  },
  {
   "cell_type": "code",
   "execution_count": 4,
   "metadata": {},
   "outputs": [
    {
     "name": "stdout",
     "output_type": "stream",
     "text": [
      "   class probability\n",
      "49  3846  0.05854964\n",
      "72  5634  0.05403825\n",
      "26 30040  0.04364849\n",
      "16  1973  0.04161278\n",
      "30 30131  0.03550386\n"
     ]
    }
   ],
   "source": [
    "PredictImage(\"Modelo/canker_00001016.jpg\",\"Modelo/plants35.model\",\"Modelo/mlb35.pickle\",5)"
   ]
  },
  {
   "cell_type": "code",
   "execution_count": null,
   "metadata": {},
   "outputs": [],
   "source": []
  }
 ],
 "metadata": {
  "kernelspec": {
   "display_name": "R",
   "language": "R",
   "name": "ir"
  },
  "language_info": {
   "codemirror_mode": "r",
   "file_extension": ".r",
   "mimetype": "text/x-r-source",
   "name": "R",
   "pygments_lexer": "r",
   "version": "3.4.4"
  }
 },
 "nbformat": 4,
 "nbformat_minor": 2
}
