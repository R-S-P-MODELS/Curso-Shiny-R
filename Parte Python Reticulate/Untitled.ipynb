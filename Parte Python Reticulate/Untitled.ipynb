{
 "cells": [
  {
   "cell_type": "code",
   "execution_count": 1,
   "metadata": {},
   "outputs": [
    {
     "name": "stderr",
     "output_type": "stream",
     "text": [
      "Loading required package: reticulate\n"
     ]
    }
   ],
   "source": [
    "require(reticulate)\n",
    "\tuse_python(\"/usr/bin/python3\")"
   ]
  },
  {
   "cell_type": "code",
   "execution_count": 3,
   "metadata": {},
   "outputs": [
    {
     "name": "stderr",
     "output_type": "stream",
     "text": [
      "Python 3.5.2 (/usr/bin/python3)\n",
      "Reticulate 1.10 REPL -- A Python interpreter in R.\n"
     ]
    },
    {
     "name": "stdout",
     "output_type": "stream",
     "text": [
      "exit\n"
     ]
    }
   ],
   "source": [
    "repl_python()\n",
    "#dictionary = {'alpha': 1, 'beta': 2}\n",
    "#exit"
   ]
  },
  {
   "cell_type": "code",
   "execution_count": 5,
   "metadata": {},
   "outputs": [
    {
     "ename": "ERROR",
     "evalue": "Error in eval(expr, envir, enclos): objeto 'exit' não encontrado\n",
     "output_type": "error",
     "traceback": [
      "Error in eval(expr, envir, enclos): objeto 'exit' não encontrado\nTraceback:\n"
     ]
    }
   ],
   "source": [
    "exit"
   ]
  },
  {
   "cell_type": "code",
   "execution_count": 4,
   "metadata": {},
   "outputs": [
    {
     "ename": "ERROR",
     "evalue": "Error in py_get_attr_impl(x, name, silent): AttributeError: module '__main__' has no attribute 'dictionary'\n",
     "output_type": "error",
     "traceback": [
      "Error in py_get_attr_impl(x, name, silent): AttributeError: module '__main__' has no attribute 'dictionary'\nTraceback:\n",
      "1. py$dictionary",
      "2. `$.python.builtin.module`(py, dictionary)",
      "3. `$.python.builtin.object`(x, name)",
      "4. py_get_attr_or_item(x, name, TRUE)",
      "5. py_get_attr(x, name)",
      "6. py_get_attr_impl(x, name, silent)"
     ]
    }
   ],
   "source": [
    "py$dictionary"
   ]
  },
  {
   "cell_type": "code",
   "execution_count": null,
   "metadata": {},
   "outputs": [],
   "source": []
  }
 ],
 "metadata": {
  "kernelspec": {
   "display_name": "R",
   "language": "R",
   "name": "ir"
  },
  "language_info": {
   "codemirror_mode": "r",
   "file_extension": ".r",
   "mimetype": "text/x-r-source",
   "name": "R",
   "pygments_lexer": "r",
   "version": "3.4.4"
  }
 },
 "nbformat": 4,
 "nbformat_minor": 2
}
