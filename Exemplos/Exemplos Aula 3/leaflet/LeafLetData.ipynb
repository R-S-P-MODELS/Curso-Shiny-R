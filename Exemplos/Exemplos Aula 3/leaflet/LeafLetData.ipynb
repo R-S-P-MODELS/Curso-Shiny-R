{
 "cells": [
  {
   "cell_type": "code",
   "execution_count": 1,
   "metadata": {},
   "outputs": [],
   "source": [
    "library(htmlwidgets)\n",
    "library(IRdisplay)\n",
    " \n",
    "library(leaflet)\n"
   ]
  },
  {
   "cell_type": "code",
   "execution_count": 2,
   "metadata": {},
   "outputs": [],
   "source": [
    "Dados<-read.csv(\"database.csv\")\n"
   ]
  },
  {
   "cell_type": "code",
   "execution_count": 3,
   "metadata": {},
   "outputs": [
    {
     "data": {
      "text/html": [
       "<table>\n",
       "<thead><tr><th scope=col>Date</th><th scope=col>Time</th><th scope=col>Latitude</th><th scope=col>Longitude</th><th scope=col>Type</th><th scope=col>Depth</th><th scope=col>Depth.Error</th><th scope=col>Depth.Seismic.Stations</th><th scope=col>Magnitude</th><th scope=col>Magnitude.Type</th><th scope=col>⋯</th><th scope=col>Magnitude.Seismic.Stations</th><th scope=col>Azimuthal.Gap</th><th scope=col>Horizontal.Distance</th><th scope=col>Horizontal.Error</th><th scope=col>Root.Mean.Square</th><th scope=col>ID</th><th scope=col>Source</th><th scope=col>Location.Source</th><th scope=col>Magnitude.Source</th><th scope=col>Status</th></tr></thead>\n",
       "<tbody>\n",
       "\t<tr><td>01/02/1965  </td><td>13:44:18    </td><td> 19.246     </td><td> 145.616    </td><td>Earthquake  </td><td>131.6       </td><td>NA          </td><td>NA          </td><td>6.0         </td><td>MW          </td><td>⋯           </td><td>NA          </td><td>NA          </td><td>NA          </td><td>NA          </td><td>NA          </td><td>ISCGEM860706</td><td>ISCGEM      </td><td>ISCGEM      </td><td>ISCGEM      </td><td>Automatic   </td></tr>\n",
       "\t<tr><td>01/04/1965  </td><td>11:29:49    </td><td>  1.863     </td><td> 127.352    </td><td>Earthquake  </td><td> 80.0       </td><td>NA          </td><td>NA          </td><td>5.8         </td><td>MW          </td><td>⋯           </td><td>NA          </td><td>NA          </td><td>NA          </td><td>NA          </td><td>NA          </td><td>ISCGEM860737</td><td>ISCGEM      </td><td>ISCGEM      </td><td>ISCGEM      </td><td>Automatic   </td></tr>\n",
       "\t<tr><td>01/05/1965  </td><td>18:05:58    </td><td>-20.579     </td><td>-173.972    </td><td>Earthquake  </td><td> 20.0       </td><td>NA          </td><td>NA          </td><td>6.2         </td><td>MW          </td><td>⋯           </td><td>NA          </td><td>NA          </td><td>NA          </td><td>NA          </td><td>NA          </td><td>ISCGEM860762</td><td>ISCGEM      </td><td>ISCGEM      </td><td>ISCGEM      </td><td>Automatic   </td></tr>\n",
       "\t<tr><td>01/08/1965  </td><td>18:49:43    </td><td>-59.076     </td><td> -23.557    </td><td>Earthquake  </td><td> 15.0       </td><td>NA          </td><td>NA          </td><td>5.8         </td><td>MW          </td><td>⋯           </td><td>NA          </td><td>NA          </td><td>NA          </td><td>NA          </td><td>NA          </td><td>ISCGEM860856</td><td>ISCGEM      </td><td>ISCGEM      </td><td>ISCGEM      </td><td>Automatic   </td></tr>\n",
       "\t<tr><td>01/09/1965  </td><td>13:32:50    </td><td> 11.938     </td><td> 126.427    </td><td>Earthquake  </td><td> 15.0       </td><td>NA          </td><td>NA          </td><td>5.8         </td><td>MW          </td><td>⋯           </td><td>NA          </td><td>NA          </td><td>NA          </td><td>NA          </td><td>NA          </td><td>ISCGEM860890</td><td>ISCGEM      </td><td>ISCGEM      </td><td>ISCGEM      </td><td>Automatic   </td></tr>\n",
       "\t<tr><td>01/10/1965  </td><td>13:36:32    </td><td>-13.405     </td><td> 166.629    </td><td>Earthquake  </td><td> 35.0       </td><td>NA          </td><td>NA          </td><td>6.7         </td><td>MW          </td><td>⋯           </td><td>NA          </td><td>NA          </td><td>NA          </td><td>NA          </td><td>NA          </td><td>ISCGEM860922</td><td>ISCGEM      </td><td>ISCGEM      </td><td>ISCGEM      </td><td>Automatic   </td></tr>\n",
       "</tbody>\n",
       "</table>\n"
      ],
      "text/latex": [
       "\\begin{tabular}{r|lllllllllllllllllllll}\n",
       " Date & Time & Latitude & Longitude & Type & Depth & Depth.Error & Depth.Seismic.Stations & Magnitude & Magnitude.Type & ⋯ & Magnitude.Seismic.Stations & Azimuthal.Gap & Horizontal.Distance & Horizontal.Error & Root.Mean.Square & ID & Source & Location.Source & Magnitude.Source & Status\\\\\n",
       "\\hline\n",
       "\t 01/02/1965   & 13:44:18     &  19.246      &  145.616     & Earthquake   & 131.6        & NA           & NA           & 6.0          & MW           & ⋯            & NA           & NA           & NA           & NA           & NA           & ISCGEM860706 & ISCGEM       & ISCGEM       & ISCGEM       & Automatic   \\\\\n",
       "\t 01/04/1965   & 11:29:49     &   1.863      &  127.352     & Earthquake   &  80.0        & NA           & NA           & 5.8          & MW           & ⋯            & NA           & NA           & NA           & NA           & NA           & ISCGEM860737 & ISCGEM       & ISCGEM       & ISCGEM       & Automatic   \\\\\n",
       "\t 01/05/1965   & 18:05:58     & -20.579      & -173.972     & Earthquake   &  20.0        & NA           & NA           & 6.2          & MW           & ⋯            & NA           & NA           & NA           & NA           & NA           & ISCGEM860762 & ISCGEM       & ISCGEM       & ISCGEM       & Automatic   \\\\\n",
       "\t 01/08/1965   & 18:49:43     & -59.076      &  -23.557     & Earthquake   &  15.0        & NA           & NA           & 5.8          & MW           & ⋯            & NA           & NA           & NA           & NA           & NA           & ISCGEM860856 & ISCGEM       & ISCGEM       & ISCGEM       & Automatic   \\\\\n",
       "\t 01/09/1965   & 13:32:50     &  11.938      &  126.427     & Earthquake   &  15.0        & NA           & NA           & 5.8          & MW           & ⋯            & NA           & NA           & NA           & NA           & NA           & ISCGEM860890 & ISCGEM       & ISCGEM       & ISCGEM       & Automatic   \\\\\n",
       "\t 01/10/1965   & 13:36:32     & -13.405      &  166.629     & Earthquake   &  35.0        & NA           & NA           & 6.7          & MW           & ⋯            & NA           & NA           & NA           & NA           & NA           & ISCGEM860922 & ISCGEM       & ISCGEM       & ISCGEM       & Automatic   \\\\\n",
       "\\end{tabular}\n"
      ],
      "text/markdown": [
       "\n",
       "| Date | Time | Latitude | Longitude | Type | Depth | Depth.Error | Depth.Seismic.Stations | Magnitude | Magnitude.Type | ⋯ | Magnitude.Seismic.Stations | Azimuthal.Gap | Horizontal.Distance | Horizontal.Error | Root.Mean.Square | ID | Source | Location.Source | Magnitude.Source | Status |\n",
       "|---|---|---|---|---|---|---|---|---|---|---|---|---|---|---|---|---|---|---|---|---|\n",
       "| 01/02/1965   | 13:44:18     |  19.246      |  145.616     | Earthquake   | 131.6        | NA           | NA           | 6.0          | MW           | ⋯            | NA           | NA           | NA           | NA           | NA           | ISCGEM860706 | ISCGEM       | ISCGEM       | ISCGEM       | Automatic    |\n",
       "| 01/04/1965   | 11:29:49     |   1.863      |  127.352     | Earthquake   |  80.0        | NA           | NA           | 5.8          | MW           | ⋯            | NA           | NA           | NA           | NA           | NA           | ISCGEM860737 | ISCGEM       | ISCGEM       | ISCGEM       | Automatic    |\n",
       "| 01/05/1965   | 18:05:58     | -20.579      | -173.972     | Earthquake   |  20.0        | NA           | NA           | 6.2          | MW           | ⋯            | NA           | NA           | NA           | NA           | NA           | ISCGEM860762 | ISCGEM       | ISCGEM       | ISCGEM       | Automatic    |\n",
       "| 01/08/1965   | 18:49:43     | -59.076      |  -23.557     | Earthquake   |  15.0        | NA           | NA           | 5.8          | MW           | ⋯            | NA           | NA           | NA           | NA           | NA           | ISCGEM860856 | ISCGEM       | ISCGEM       | ISCGEM       | Automatic    |\n",
       "| 01/09/1965   | 13:32:50     |  11.938      |  126.427     | Earthquake   |  15.0        | NA           | NA           | 5.8          | MW           | ⋯            | NA           | NA           | NA           | NA           | NA           | ISCGEM860890 | ISCGEM       | ISCGEM       | ISCGEM       | Automatic    |\n",
       "| 01/10/1965   | 13:36:32     | -13.405      |  166.629     | Earthquake   |  35.0        | NA           | NA           | 6.7          | MW           | ⋯            | NA           | NA           | NA           | NA           | NA           | ISCGEM860922 | ISCGEM       | ISCGEM       | ISCGEM       | Automatic    |\n",
       "\n"
      ],
      "text/plain": [
       "  Date       Time     Latitude Longitude Type       Depth Depth.Error\n",
       "1 01/02/1965 13:44:18  19.246   145.616  Earthquake 131.6 NA         \n",
       "2 01/04/1965 11:29:49   1.863   127.352  Earthquake  80.0 NA         \n",
       "3 01/05/1965 18:05:58 -20.579  -173.972  Earthquake  20.0 NA         \n",
       "4 01/08/1965 18:49:43 -59.076   -23.557  Earthquake  15.0 NA         \n",
       "5 01/09/1965 13:32:50  11.938   126.427  Earthquake  15.0 NA         \n",
       "6 01/10/1965 13:36:32 -13.405   166.629  Earthquake  35.0 NA         \n",
       "  Depth.Seismic.Stations Magnitude Magnitude.Type ⋯ Magnitude.Seismic.Stations\n",
       "1 NA                     6.0       MW             ⋯ NA                        \n",
       "2 NA                     5.8       MW             ⋯ NA                        \n",
       "3 NA                     6.2       MW             ⋯ NA                        \n",
       "4 NA                     5.8       MW             ⋯ NA                        \n",
       "5 NA                     5.8       MW             ⋯ NA                        \n",
       "6 NA                     6.7       MW             ⋯ NA                        \n",
       "  Azimuthal.Gap Horizontal.Distance Horizontal.Error Root.Mean.Square\n",
       "1 NA            NA                  NA               NA              \n",
       "2 NA            NA                  NA               NA              \n",
       "3 NA            NA                  NA               NA              \n",
       "4 NA            NA                  NA               NA              \n",
       "5 NA            NA                  NA               NA              \n",
       "6 NA            NA                  NA               NA              \n",
       "  ID           Source Location.Source Magnitude.Source Status   \n",
       "1 ISCGEM860706 ISCGEM ISCGEM          ISCGEM           Automatic\n",
       "2 ISCGEM860737 ISCGEM ISCGEM          ISCGEM           Automatic\n",
       "3 ISCGEM860762 ISCGEM ISCGEM          ISCGEM           Automatic\n",
       "4 ISCGEM860856 ISCGEM ISCGEM          ISCGEM           Automatic\n",
       "5 ISCGEM860890 ISCGEM ISCGEM          ISCGEM           Automatic\n",
       "6 ISCGEM860922 ISCGEM ISCGEM          ISCGEM           Automatic"
      ]
     },
     "metadata": {},
     "output_type": "display_data"
    }
   ],
   "source": [
    "head(Dados)"
   ]
  },
  {
   "cell_type": "code",
   "execution_count": 4,
   "metadata": {},
   "outputs": [],
   "source": [
    "Dados=Dados[Dados$Type==\"Earthquake\",]"
   ]
  },
  {
   "cell_type": "code",
   "execution_count": 5,
   "metadata": {},
   "outputs": [
    {
     "data": {
      "text/html": [
       "<ol class=list-inline>\n",
       "\t<li>23232</li>\n",
       "\t<li>21</li>\n",
       "</ol>\n"
      ],
      "text/latex": [
       "\\begin{enumerate*}\n",
       "\\item 23232\n",
       "\\item 21\n",
       "\\end{enumerate*}\n"
      ],
      "text/markdown": [
       "1. 23232\n",
       "2. 21\n",
       "\n",
       "\n"
      ],
      "text/plain": [
       "[1] 23232    21"
      ]
     },
     "metadata": {},
     "output_type": "display_data"
    }
   ],
   "source": [
    "dim(Dados)"
   ]
  },
  {
   "cell_type": "code",
   "execution_count": 6,
   "metadata": {},
   "outputs": [
    {
     "data": {
      "text/plain": [
       "   Min. 1st Qu.  Median    Mean 3rd Qu.    Max. \n",
       "  5.500   5.600   5.700   5.883   6.000   9.100 "
      ]
     },
     "metadata": {},
     "output_type": "display_data"
    }
   ],
   "source": [
    "summary(Dados$Magnitude)"
   ]
  },
  {
   "cell_type": "code",
   "execution_count": 7,
   "metadata": {},
   "outputs": [],
   "source": [
    "Dados$Date=as.character(Dados$Date)"
   ]
  },
  {
   "cell_type": "code",
   "execution_count": 8,
   "metadata": {},
   "outputs": [],
   "source": [
    "Dados$Anos=do.call(rbind,strsplit(Dados$Date,split=\"/\"))[,3]\n",
    "Dados$Anos=do.call(rbind,strsplit(Dados$Anos,\"-\",fixed=TRUE))[,1]\n"
   ]
  },
  {
   "cell_type": "code",
   "execution_count": 9,
   "metadata": {},
   "outputs": [
    {
     "name": "stderr",
     "output_type": "stream",
     "text": [
      "Assuming \"Longitude\" and \"Latitude\" are longitude and latitude, respectively\n"
     ]
    },
    {
     "data": {
      "text/html": [
       "<iframe src=\"demo.html\" width=\"800\" height=\"600\"></iframe>"
      ]
     },
     "metadata": {},
     "output_type": "display_data"
    }
   ],
   "source": [
    "m = leaflet(Dados) %>% addTiles() %>%addMarkers(label=~Anos,clusterOptions = markerClusterOptions() ) \n",
    "saveWidget(m, 'demo.html', selfcontained = FALSE)\n",
    "display_html('<iframe src=\"demo.html\" width=\"800\" height=\"600\"></iframe>')"
   ]
  },
  {
   "cell_type": "markdown",
   "metadata": {},
   "source": [
    "Para utilizar o leaflet dentro do ambiente shiny. deve se utilizar as funções leafletOutput e renderLeaflet"
   ]
  }
 ],
 "metadata": {
  "kernelspec": {
   "display_name": "R",
   "language": "R",
   "name": "ir"
  },
  "language_info": {
   "codemirror_mode": "r",
   "file_extension": ".r",
   "mimetype": "text/x-r-source",
   "name": "R",
   "pygments_lexer": "r",
   "version": "3.4.4"
  }
 },
 "nbformat": 4,
 "nbformat_minor": 2
}
